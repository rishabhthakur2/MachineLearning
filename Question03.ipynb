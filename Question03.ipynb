{
  "nbformat": 4,
  "nbformat_minor": 2,
  "metadata": {
    "kernelspec": {
      "display_name": "Python 3",
      "language": "python",
      "name": "python3"
    },
    "language_info": {
      "codemirror_mode": {
        "name": "ipython",
        "version": 3
      },
      "file_extension": ".py",
      "mimetype": "text/x-python",
      "name": "python",
      "nbconvert_exporter": "python",
      "pygments_lexer": "ipython3",
      "version": "3.8.3"
    },
    "colab": {
      "name": "Question03.ipynb",
      "provenance": [],
      "collapsed_sections": []
    }
  },
  "cells": [
    {
      "cell_type": "markdown",
      "source": [
        "   # GA applied to OneMax"
      ],
      "metadata": {
        "id": "TA2hc3OTzrWa"
      }
    },
    {
      "cell_type": "markdown",
      "source": [
        "Name:Rishabh Thakur\r\n",
        "\r\n",
        "Student Id:21020183\r\n"
      ],
      "metadata": {}
    },
    {
      "cell_type": "markdown",
      "source": [
        "##3. Create your own fitness function works similar to OneMax except that the maximum fitness is when 50% of the individual's genes are 1, with a linear decay on either side. That is, calculate the sum of an individual like OneMax does, let's call it i, and then use the following pseudocode:"
      ],
      "metadata": {
        "id": "hofHpIeo0PyD"
      }
    },
    {
      "cell_type": "markdown",
      "source": [
        "This notebook implements a simple GA in a fairly lowlevel way. In later examples we'll use more highlevel operators, but it is a very valuable exercise to ensure you understand what this code is actually doing. Make sure you understand the processes below before moving to the more high-level toolboxes!"
      ],
      "metadata": {
        "id": "sgd85bBTzrWg"
      }
    },
    {
      "cell_type": "markdown",
      "source": [
        "Install DEAP. Note that if you are running this on your own computer you might not need to do this. In fact, it is better practice to install it so that it is always available, but when running on Colab, we do need this."
      ],
      "metadata": {
        "id": "0WR8XhjBzrWh"
      }
    },
    {
      "cell_type": "code",
      "execution_count": 4,
      "source": [
        "!pip install deap"
      ],
      "outputs": [
        {
          "output_type": "stream",
          "name": "stdout",
          "text": [
            "Collecting deap\n",
            "  Downloading deap-1.3.1-cp37-cp37m-manylinux_2_5_x86_64.manylinux1_x86_64.manylinux_2_12_x86_64.manylinux2010_x86_64.whl (160 kB)\n",
            "\u001b[?25l\r\u001b[K     |██                              | 10 kB 21.4 MB/s eta 0:00:01\r\u001b[K     |████                            | 20 kB 28.5 MB/s eta 0:00:01\r\u001b[K     |██████                          | 30 kB 33.1 MB/s eta 0:00:01\r\u001b[K     |████████▏                       | 40 kB 35.8 MB/s eta 0:00:01\r\u001b[K     |██████████▏                     | 51 kB 37.1 MB/s eta 0:00:01\r\u001b[K     |████████████▏                   | 61 kB 34.8 MB/s eta 0:00:01\r\u001b[K     |██████████████▎                 | 71 kB 24.3 MB/s eta 0:00:01\r\u001b[K     |████████████████▎               | 81 kB 23.1 MB/s eta 0:00:01\r\u001b[K     |██████████████████▎             | 92 kB 24.7 MB/s eta 0:00:01\r\u001b[K     |████████████████████▍           | 102 kB 26.4 MB/s eta 0:00:01\r\u001b[K     |██████████████████████▍         | 112 kB 26.4 MB/s eta 0:00:01\r\u001b[K     |████████████████████████▍       | 122 kB 26.4 MB/s eta 0:00:01\r\u001b[K     |██████████████████████████▌     | 133 kB 26.4 MB/s eta 0:00:01\r\u001b[K     |████████████████████████████▌   | 143 kB 26.4 MB/s eta 0:00:01\r\u001b[K     |██████████████████████████████▌ | 153 kB 26.4 MB/s eta 0:00:01\r\u001b[K     |████████████████████████████████| 160 kB 26.4 MB/s \n",
            "\u001b[?25hRequirement already satisfied: numpy in /usr/local/lib/python3.7/dist-packages (from deap) (1.19.5)\n",
            "Installing collected packages: deap\n",
            "Successfully installed deap-1.3.1\n"
          ]
        }
      ],
      "metadata": {
        "id": "B9vC65s-zrWh",
        "colab": {
          "base_uri": "https://localhost:8080/"
        },
        "outputId": "3faadc5d-2643-47ff-b987-e223b7485fcc"
      }
    },
    {
      "cell_type": "markdown",
      "source": [
        "Import the DEAP tools and useful libraries (random and matplotlib)."
      ],
      "metadata": {
        "id": "29nnB7DhzrWj"
      }
    },
    {
      "cell_type": "code",
      "execution_count": 5,
      "source": [
        "from deap import base\r\n",
        "from deap import creator\r\n",
        "from deap import tools\r\n",
        "\r\n",
        "import random\r\n",
        "\r\n",
        "import matplotlib.pyplot as plt"
      ],
      "outputs": [],
      "metadata": {
        "id": "5PlL0u-3zrWj"
      }
    },
    {
      "cell_type": "markdown",
      "source": [
        "Set our Genetic Algorithm parameters"
      ],
      "metadata": {
        "id": "T1gZLiYrzrWj"
      }
    },
    {
      "cell_type": "code",
      "execution_count": 6,
      "source": [
        "# Genetic Algorithm constants:\r\n",
        "POPULATION_SIZE = 3\r\n",
        "P_CROSSOVER = 0.7  # probability for crossover\r\n",
        "P_MUTATION = 0.05   # probability for mutating an individual\r\n",
        "MAX_GENERATIONS = 2"
      ],
      "outputs": [],
      "metadata": {
        "id": "SyBGJmHmzrWk"
      }
    },
    {
      "cell_type": "markdown",
      "source": [
        "Set any problem-specific constants here. In this case we need to know how long the string is."
      ],
      "metadata": {
        "id": "e53PGfrNzrWk"
      }
    },
    {
      "cell_type": "code",
      "execution_count": 7,
      "source": [
        "ONE_MAX_LENGTH =   100 # length of bit string to be optimized"
      ],
      "outputs": [],
      "metadata": {
        "id": "fVQX6T-CzrWl"
      }
    },
    {
      "cell_type": "markdown",
      "source": [
        "Set the random seed. This is important so that we can reproduce runs later on."
      ],
      "metadata": {
        "id": "LyA3FxJuzrWl"
      }
    },
    {
      "cell_type": "code",
      "execution_count": 8,
      "source": [
        "RANDOM_SEED = 42\r\n",
        "random.seed(RANDOM_SEED)"
      ],
      "outputs": [],
      "metadata": {
        "id": "d9SMvGswzrWm"
      }
    },
    {
      "cell_type": "markdown",
      "source": [
        "Create our toolbox. Note that we can pull in a bunch of predefined operators to tailor our Evolutionary Algorithm, which, of course, in this case is a GA. Notice that it is possible to create our **own** operators and functions to use, which is what we do with our **oneMaxFitness** function below."
      ],
      "metadata": {
        "id": "OcC34VpSzrWm"
      }
    },
    {
      "cell_type": "code",
      "execution_count": 9,
      "source": [
        "toolbox = base.Toolbox()\r\n",
        "\r\n",
        "# create an operator that randomly returns 0 or 1:\r\n",
        "toolbox.register(\"zeroOrOne\", random.randint, 0, 1)\r\n",
        "\r\n",
        "# define a single objective, maximizing fitness strategy:\r\n",
        "creator.create(\"FitnessMax\", base.Fitness, weights=(1.0,))\r\n",
        "\r\n",
        "# create the Individual class based on list:\r\n",
        "creator.create(\"Individual\", list, fitness=creator.FitnessMax)\r\n",
        "#creator.create(\"Individual\", array.array, typecode='b', fitness=creator.FitnessMax)\r\n",
        "\r\n",
        "# create the individual operator to fill up an Individual instance:\r\n",
        "toolbox.register(\"individualCreator\", tools.initRepeat, creator.Individual, toolbox.zeroOrOne, ONE_MAX_LENGTH)\r\n",
        "\r\n",
        "# create the population operator to generate a list of individuals:\r\n",
        "toolbox.register(\"populationCreator\", tools.initRepeat, list, toolbox.individualCreator)\r\n",
        "\r\n",
        "\r\n",
        "# fitness calculation:\r\n",
        "# compute the number of '1's in the individual\r\n",
        "def oneMaxFitness(individual):\r\n",
        "    if sum(individual)>ONE_MAX_LENGTH/2:\r\n",
        "      return ONE_MAX_LENGTH-sum(individual),\r\n",
        "    return sum(individual),  # return a tuple\r\n",
        "\r\n",
        "\r\n",
        "toolbox.register(\"evaluate\", oneMaxFitness)\r\n",
        "\r\n",
        "# genetic operators:\r\n",
        "\r\n",
        "# Tournament selection with tournament size of 3:\r\n",
        "toolbox.register(\"select\", tools.selRoulette)\r\n",
        "\r\n",
        "# Single-point crossover:\r\n",
        "toolbox.register(\"mate\", tools.cxOnePoint)\r\n",
        "\r\n",
        "# Flip-bit mutation:\r\n",
        "# indpb: Independent probability for each attribute to be flipped\r\n",
        "toolbox.register(\"mutate\", tools.mutFlipBit, indpb=1.0/ONE_MAX_LENGTH)\r\n",
        "\r\n"
      ],
      "outputs": [],
      "metadata": {
        "id": "B0sH-qQEzrWm"
      }
    },
    {
      "cell_type": "markdown",
      "source": [
        "Here is the main GA loop. We will iterate through it up to the MAX_GENERATIONS parameter and then print out our best individual."
      ],
      "metadata": {
        "id": "2l6xua3fzrWn"
      }
    },
    {
      "cell_type": "code",
      "execution_count": 10,
      "source": [
        "# create initial population (generation 0):\r\n",
        "population = toolbox.populationCreator(n=POPULATION_SIZE)\r\n",
        "generationCounter = 0\r\n",
        "\r\n",
        "# calculate fitness tuple for each individual in the population:\r\n",
        "fitnessValues = list(map(toolbox.evaluate, population))\r\n",
        "for individual, fitnessValue in zip(population, fitnessValues):\r\n",
        "    individual.fitness.values = fitnessValue\r\n",
        "\r\n",
        "# extract fitness values from all individuals in population:\r\n",
        "fitnessValues = [individual.fitness.values[0] for individual in population]\r\n",
        "\r\n",
        "# initialize statistics accumulators:\r\n",
        "maxFitnessValues = []\r\n",
        "meanFitnessValues = []\r\n",
        "\r\n",
        "# main evolutionary loop:\r\n",
        "# stop if max fitness value reached the known max value\r\n",
        "# OR if number of generations exceeded the preset value:\r\n",
        "#while max(fitnessValues) < ONE_MAX_LENGTH/2 and generationCounter < MAX_GENERATIONS: #doing this would terminate the loop for the 1st generation and a graph isn't generated. \r\n",
        "while max(fitnessValues) < ONE_MAX_LENGTH and generationCounter < MAX_GENERATIONS: \r\n",
        "    # update counter:\r\n",
        "    generationCounter = generationCounter + 1\r\n",
        "\r\n",
        "    # apply the selection operator, to select the next generation's individuals:\r\n",
        "    offspring = toolbox.select(population, len(population))\r\n",
        "    # clone the selected individuals:\r\n",
        "    offspring = list(map(toolbox.clone, offspring))\r\n",
        "\r\n",
        "    # apply the crossover operator to pairs of offspring:\r\n",
        "    for child1, child2 in zip(offspring[::2], offspring[1::2]):\r\n",
        "        if random.random() < P_CROSSOVER:\r\n",
        "            toolbox.mate(child1, child2)\r\n",
        "            del child1.fitness.values\r\n",
        "            del child2.fitness.values\r\n",
        "\r\n",
        "    for mutant in offspring:\r\n",
        "        if random.random() < P_MUTATION:\r\n",
        "            toolbox.mutate(mutant)\r\n",
        "            del mutant.fitness.values\r\n",
        "\r\n",
        "    # calculate fitness for the individuals with no previous calculated fitness value:\r\n",
        "    freshIndividuals = [ind for ind in offspring if not ind.fitness.valid]\r\n",
        "    freshFitnessValues = list(map(toolbox.evaluate, freshIndividuals))\r\n",
        "    for individual, fitnessValue in zip(freshIndividuals, freshFitnessValues):\r\n",
        "        individual.fitness.values = fitnessValue\r\n",
        "\r\n",
        "    # replace the current population with the offspring:\r\n",
        "    population[:] = offspring\r\n",
        "\r\n",
        "    # collect fitnessValues into a list, update statistics and print:\r\n",
        "    fitnessValues = [ind.fitness.values[0] for ind in population]\r\n",
        "\r\n",
        "    maxFitness = max(fitnessValues)\r\n",
        "    meanFitness = sum(fitnessValues) / len(population)\r\n",
        "    maxFitnessValues.append(maxFitness)\r\n",
        "    meanFitnessValues.append(meanFitness)\r\n",
        "    print(\"- Generation {}: Max Fitness = {}, Avg Fitness = {}\".format(generationCounter, maxFitness, meanFitness))\r\n",
        "\r\n",
        "    # find and print best individual:\r\n",
        "    best_index = fitnessValues.index(max(fitnessValues))\r\n",
        "    print(\"Best Individual = \", *population[best_index], \"\\n\")"
      ],
      "outputs": [
        {
          "output_type": "stream",
          "name": "stdout",
          "text": [
            "- Generation 1: Max Fitness = 50.0, Avg Fitness = 43.666666666666664\n",
            "Best Individual =  1 1 1 0 0 1 1 0 1 1 0 1 0 1 0 0 1 0 0 1 0 0 1 1 0 0 1 1 0 0 0 0 0 1 0 0 0 1 0 1 1 0 0 1 1 1 1 1 1 1 0 1 1 1 0 0 1 0 0 0 1 0 1 0 0 1 1 0 1 1 0 1 0 0 1 0 0 0 1 1 0 1 0 1 1 1 0 0 1 1 0 0 1 0 1 0 1 1 0 0 \n",
            "\n",
            "- Generation 2: Max Fitness = 50.0, Avg Fitness = 42.0\n",
            "Best Individual =  1 1 1 0 0 1 1 0 1 1 0 1 0 1 0 0 1 0 0 1 0 0 1 1 0 0 1 1 0 0 0 0 0 1 0 0 0 1 0 1 1 0 0 1 1 1 1 1 1 1 0 1 1 1 0 0 1 0 0 0 1 0 1 0 0 1 1 0 1 1 0 1 0 0 1 0 0 0 1 1 0 1 0 1 1 1 0 0 1 1 0 0 1 0 1 0 1 1 0 0 \n",
            "\n"
          ]
        }
      ],
      "metadata": {
        "id": "tB6HBpaqzrWo",
        "colab": {
          "base_uri": "https://localhost:8080/"
        },
        "outputId": "a18d5fe7-0653-4304-a580-9961ef8534ed"
      }
    },
    {
      "cell_type": "markdown",
      "source": [
        "Now that we're done, let's print out some statistics. Generally we record (at least) the max and average over time."
      ],
      "metadata": {
        "id": "8l3GRi4-zrWq"
      }
    },
    {
      "cell_type": "code",
      "execution_count": 11,
      "source": [
        "# Genetic Algorithm is done - plot statistics:\r\n",
        "#sns.set_style(\"whitegrid\")\r\n",
        "plt.plot(maxFitnessValues, color='red')\r\n",
        "plt.plot(meanFitnessValues, color='green')\r\n",
        "plt.xlabel('Generation')\r\n",
        "plt.ylabel('Max / Average Fitness')\r\n",
        "plt.title('Max and Average Fitness over Generations')\r\n",
        "plt.show()\r\n"
      ],
      "outputs": [
        {
          "output_type": "display_data",
          "data": {
            "image/png": "[encoded data removed]",
            "text/plain": [
              "<Figure size 432x288 with 1 Axes>"
            ]
          },
          "metadata": {
            "needs_background": "light"
          }
        }
      ],
      "metadata": {
        "id": "qosq3WzmzrWr",
        "colab": {
          "base_uri": "https://localhost:8080/",
          "height": 295
        },
        "outputId": "eb426d8c-7440-49b8-ff96-d3bd5cf5bd65"
      }
    },
    {
      "cell_type": "code",
      "execution_count": 12,
      "source": [
        "print (max (maxFitnessValues))"
      ],
      "outputs": [
        {
          "output_type": "stream",
          "name": "stdout",
          "text": [
            "50.0\n"
          ]
        }
      ],
      "metadata": {
        "id": "Sl5kxvIgzrWr",
        "colab": {
          "base_uri": "https://localhost:8080/"
        },
        "outputId": "aeb525a1-eb42-4f51-8170-4c283872d5f1"
      }
    },
    {
      "cell_type": "markdown",
      "source": [
        "Smallest population size and number of generations to find a perfect solution with an individual size of 100 is\n",
        "###3*1=2"
      ],
      "metadata": {
        "id": "p49A4xXCy_RB"
      }
    },
    {
      "cell_type": "markdown",
      "source": [
        "It is much easier to get this result because of the law of large numbers. While randdomly generating 0s and 1s for the individual with 50% probability for each, We might come up with the optimum solution in the very first generation. As we generate more buts, it will start to converge to a string with equal number of 1s and 0s."
      ],
      "metadata": {
        "id": "DVqK_NEJzm_e"
      }
    },
    {
      "cell_type": "code",
      "execution_count": 12,
      "source": [],
      "outputs": [],
      "metadata": {
        "id": "eOyzElWYDiu9"
      }
    }
  ]
}