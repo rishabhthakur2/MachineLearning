{
  "nbformat": 4,
  "nbformat_minor": 0,
  "metadata": {
    "kernelspec": {
      "display_name": "Python 3",
      "language": "python",
      "name": "python3"
    },
    "language_info": {
      "codemirror_mode": {
        "name": "ipython",
        "version": 3
      },
      "file_extension": ".py",
      "mimetype": "text/x-python",
      "name": "python",
      "nbconvert_exporter": "python",
      "pygments_lexer": "ipython3",
      "version": "3.8.3"
    },
    "colab": {
      "name": "Copy of DEAP Algorithms (GP Parity).ipynb",
      "provenance": []
    }
  },
  "cells": [
    {
      "cell_type": "markdown",
      "metadata": {
        "id": "5l0UGNAeqJ57"
      },
      "source": [
        "#Week 06\n",
        "\n",
        "Rishabh Thakur\n",
        "\n",
        "21020183"
      ]
    },
    {
      "cell_type": "markdown",
      "metadata": {
        "id": "o4fmRIFjqJ58"
      },
      "source": [
        "Install DEAP. "
      ]
    },
    {
      "cell_type": "code",
      "metadata": {
        "id": "fkEgIHScqJ59",
        "colab": {
          "base_uri": "https://localhost:8080/"
        },
        "outputId": "980a6f37-ccd5-4f29-c42d-2ad17decfadb"
      },
      "source": [
        "!pip install deap"
      ],
      "execution_count": 29,
      "outputs": [
        {
          "output_type": "stream",
          "name": "stdout",
          "text": [
            "Requirement already satisfied: deap in /usr/local/lib/python3.7/dist-packages (1.3.1)\n",
            "Requirement already satisfied: numpy in /usr/local/lib/python3.7/dist-packages (from deap) (1.19.5)\n"
          ]
        }
      ]
    },
    {
      "cell_type": "code",
      "metadata": {
        "id": "hGu9LISTqJ5_",
        "colab": {
          "base_uri": "https://localhost:8080/",
          "height": 17
        },
        "outputId": "4d4df43c-6dc1-4538-fecb-63e5d949ffd6"
      },
      "source": [
        "from IPython.core.display import display, HTML\n",
        "display(HTML(\"<style>.container { width:100% !important; }</style>\"))"
      ],
      "execution_count": 30,
      "outputs": [
        {
          "output_type": "display_data",
          "data": {
            "text/html": [
              "<style>.container { width:100% !important; }</style>"
            ],
            "text/plain": [
              "<IPython.core.display.HTML object>"
            ]
          },
          "metadata": {}
        }
      ]
    },
    {
      "cell_type": "markdown",
      "metadata": {
        "id": "PNEPndsGqJ6C"
      },
      "source": [
        "Import our tools as before, except this time we also include **itertools** and **networks** which contain some nice iterative tools (for creating our test set) and graph drawing functionality, respectively."
      ]
    },
    {
      "cell_type": "code",
      "metadata": {
        "id": "mPOSU6ooqJ6C"
      },
      "source": [
        "import operator\n",
        "import math\n",
        "import random\n",
        "\n",
        "import numpy\n",
        "\n",
        "from deap import algorithms\n",
        "from deap import base\n",
        "from deap import creator\n",
        "from deap import tools\n",
        "from deap import gp\n",
        "\n",
        "\n",
        "import matplotlib.pyplot as plt\n",
        "\n",
        "import itertools\n",
        "import networkx as nx\n",
        "\n"
      ],
      "execution_count": 31,
      "outputs": []
    },
    {
      "cell_type": "markdown",
      "metadata": {
        "id": "DMkAYRsKqJ6D"
      },
      "source": [
        "Set our Genetic Programming parameters.  Notice that these are virtually the same as the GA ones."
      ]
    },
    {
      "cell_type": "code",
      "metadata": {
        "id": "io4c6PmgqJ6E"
      },
      "source": [
        "# Genetic Programming constants:\n",
        "POPULATION_SIZE = 1000\n",
        "P_CROSSOVER = 0.8\n",
        "P_MUTATION = 0.01\n",
        "MAX_GENERATIONS = 50\n",
        "HALL_OF_FAME_SIZE = 10\n"
      ],
      "execution_count": 43,
      "outputs": []
    },
    {
      "cell_type": "markdown",
      "metadata": {
        "id": "U4caDZKrqJ6F"
      },
      "source": [
        "Set the random seed. "
      ]
    },
    {
      "cell_type": "code",
      "metadata": {
        "id": "Ql6SvFa4qJ6G"
      },
      "source": [
        "RANDOM_SEED = 412\n",
        "random.seed(RANDOM_SEED)"
      ],
      "execution_count": 44,
      "outputs": []
    },
    {
      "cell_type": "markdown",
      "metadata": {
        "id": "mJ0eq0TWqJ6H"
      },
      "source": [
        "Here are some GP-specific constants. Keeping them together like this will make later editing easier."
      ]
    },
    {
      "cell_type": "code",
      "metadata": {
        "id": "Kvmu6JS9qJ6H"
      },
      "source": [
        "MIN_TREE_HEIGHT = 3\n",
        "MAX_TREE_HEIGHT = 5\n",
        "LIMIT_TREE_HEIGHT = 17\n",
        "MUT_MIN_TREE_HEIGHT = 0\n",
        "MUT_MAX_TREE_HEIGHT = 2"
      ],
      "execution_count": 45,
      "outputs": []
    },
    {
      "cell_type": "markdown",
      "metadata": {
        "id": "LAV5OdWsqJ6I"
      },
      "source": [
        "Some problem constants. One nice thing about this problem is that it is of scalable difficulty, so we name make it more difficult simply by increasing the number of inputs."
      ]
    },
    {
      "cell_type": "code",
      "metadata": {
        "id": "djFl8Oe5qJ6J"
      },
      "source": [
        "NUM_INPUTS = 4\n",
        "NUM_COMBINATIONS = 2 ** NUM_INPUTS"
      ],
      "execution_count": 46,
      "outputs": []
    },
    {
      "cell_type": "markdown",
      "metadata": {
        "id": "aWGIB66JqJ6J"
      },
      "source": [
        "Here's our fitness function. This is a bit more involved than before as we first create all our test cases and then write a function to calculate the party error. We declare a wrapper function, **getCost** to make this code more resuable. This way we can change the fitness function and we only need to change the name in **getCost**."
      ]
    },
    {
      "cell_type": "code",
      "metadata": {
        "id": "aBS5WxhoqJ6L"
      },
      "source": [
        "# calculate the truth table of even parity check:\n",
        "parityIn = list(itertools.product([0, 1], repeat=NUM_INPUTS))\n",
        "parityOut = []\n",
        "for row in parityIn:\n",
        "    parityOut.append(sum(row) % 2)\n",
        "    \n",
        "# calculate the difference between the results of the\n",
        "# generated function and the expected parity results:\n",
        "def parityError(individual):\n",
        "    func = toolbox.compile(expr=individual)\n",
        "    return sum(func(*pIn) != pOut for pIn, pOut in zip(parityIn, parityOut))\n",
        "\n",
        "# fitness measure:\n",
        "def getCost(individual):\n",
        "    return parityError(individual), # return a tuple"
      ],
      "execution_count": 47,
      "outputs": []
    },
    {
      "cell_type": "markdown",
      "metadata": {
        "id": "xC36EH0pqJ6M"
      },
      "source": [
        "Add our functions and terminals. This time we are using Boolean operators and values."
      ]
    },
    {
      "cell_type": "code",
      "metadata": {
        "id": "TntqtihyqJ6N"
      },
      "source": [
        "# create the primitive set:\n",
        "primitiveSet = gp.PrimitiveSet(\"main\", NUM_INPUTS, \"in_\")\n",
        "primitiveSet.addPrimitive(operator.and_, 2)\n",
        "primitiveSet.addPrimitive(operator.or_, 2)\n",
        "#primitiveSet.addPrimitive(operator.xor, 2)\n",
        "primitiveSet.addPrimitive(operator.not_, 1)\n",
        "\n",
        "# add terminal values:\n",
        "primitiveSet.addTerminal(1)\n",
        "primitiveSet.addTerminal(0)"
      ],
      "execution_count": 48,
      "outputs": []
    },
    {
      "cell_type": "markdown",
      "metadata": {
        "id": "h9eOwU3WqJ6O"
      },
      "source": [
        "Create our toolbox. This is very similar to the Symbolic Regression notebook except we are using the parameters declared up above."
      ]
    },
    {
      "cell_type": "code",
      "metadata": {
        "id": "h0BFFxzeqJ6P",
        "colab": {
          "base_uri": "https://localhost:8080/"
        },
        "outputId": "cd30d246-2b7e-4006-edeb-3750c375039b"
      },
      "source": [
        "toolbox = base.Toolbox()\n",
        "\n",
        "# define a single objective, minimizing fitness strategy:\n",
        "creator.create(\"FitnessMin\", base.Fitness, weights=(-1.0,))\n",
        "\n",
        "# create the Individual class based on the primitive tree:\n",
        "creator.create(\"Individual\", gp.PrimitiveTree, fitness=creator.FitnessMin)\n",
        "\n",
        "# create a helper function for creating random trees using the primitive set:\n",
        "toolbox.register(\"expr\", gp.genFull, pset=primitiveSet, min_=MIN_TREE_HEIGHT, max_=MAX_TREE_HEIGHT)\n",
        "\n",
        "# create the individual operator to fill up an Individual instance:\n",
        "toolbox.register(\"individualCreator\", tools.initIterate, creator.Individual, toolbox.expr)\n",
        "\n",
        "# create the population operator to generate a list of individuals:\n",
        "toolbox.register(\"populationCreator\", tools.initRepeat, list, toolbox.individualCreator)\n",
        "\n",
        "# create an operator to compile the primitive tree into python code:\n",
        "toolbox.register(\"compile\", gp.compile, pset=primitiveSet)\n",
        "\n",
        "toolbox.register(\"evaluate\", getCost)\n",
        "\n",
        "# genetic operators:\n",
        "toolbox.register(\"select\", tools.selTournament, tournsize=2)\n",
        "toolbox.register(\"mate\", gp.cxOnePoint)\n",
        "toolbox.register(\"expr_mut\", gp.genGrow, min_=MUT_MIN_TREE_HEIGHT, max_=MUT_MAX_TREE_HEIGHT)\n",
        "toolbox.register(\"mutate\", gp.mutUniform, expr=toolbox.expr_mut, pset=primitiveSet)\n",
        "\n",
        "# bloat control:\n",
        "toolbox.decorate(\"mate\", gp.staticLimit(key=operator.attrgetter(\"height\"), max_value=LIMIT_TREE_HEIGHT))\n",
        "toolbox.decorate(\"mutate\", gp.staticLimit(key=operator.attrgetter(\"height\"), max_value=LIMIT_TREE_HEIGHT))\n",
        "\n"
      ],
      "execution_count": 49,
      "outputs": [
        {
          "output_type": "stream",
          "name": "stderr",
          "text": [
            "/usr/local/lib/python3.7/dist-packages/deap/creator.py:141: RuntimeWarning: A class named 'FitnessMin' has already been created and it will be overwritten. Consider deleting previous creation of that class or rename it.\n",
            "  RuntimeWarning)\n",
            "/usr/local/lib/python3.7/dist-packages/deap/creator.py:141: RuntimeWarning: A class named 'Individual' has already been created and it will be overwritten. Consider deleting previous creation of that class or rename it.\n",
            "  RuntimeWarning)\n"
          ]
        }
      ]
    },
    {
      "cell_type": "markdown",
      "metadata": {
        "id": "PN8DkOLcqJ6Q"
      },
      "source": [
        "Set up our population as before"
      ]
    },
    {
      "cell_type": "code",
      "metadata": {
        "id": "shCtzI-LqJ6Q"
      },
      "source": [
        "population = toolbox.populationCreator(n=POPULATION_SIZE)\n",
        "# define the hall-of-fame object:\n",
        "hof = tools.HallOfFame(HALL_OF_FAME_SIZE)   \n"
      ],
      "execution_count": 50,
      "outputs": []
    },
    {
      "cell_type": "markdown",
      "metadata": {
        "id": "R3snMdW7qJ6R"
      },
      "source": [
        "Create a statistics object. This time we're going to use the **MultiStatistics** tool because we want to record statistics about **size** as well as **fitness**."
      ]
    },
    {
      "cell_type": "code",
      "metadata": {
        "id": "D7BycVHOqJ6R"
      },
      "source": [
        "stats_fit = tools.Statistics(lambda ind: ind.fitness.values)\n",
        "stats_size = tools.Statistics(len)\n",
        "mstats = tools.MultiStatistics(fitness=stats_fit, size=stats_size)\n",
        "mstats.register(\"avg\", numpy.mean)\n",
        "mstats.register(\"std\", numpy.std)\n",
        "mstats.register(\"min\", numpy.min)\n",
        "mstats.register(\"max\", numpy.max)\n"
      ],
      "execution_count": 51,
      "outputs": []
    },
    {
      "cell_type": "markdown",
      "metadata": {
        "id": "DsltaKc-qJ6S"
      },
      "source": [
        "Run our GP. Notice how much slower this one is, due to the much larger population size. "
      ]
    },
    {
      "cell_type": "code",
      "metadata": {
        "id": "NCTOaPxvqJ6S",
        "colab": {
          "base_uri": "https://localhost:8080/"
        },
        "outputId": "333cc64e-6449-40d6-8854-3d38e5efee1c"
      },
      "source": [
        "population, logbook = algorithms.eaSimple(population,\n",
        "                                                  toolbox,\n",
        "                                                  cxpb=P_CROSSOVER,\n",
        "                                                  mutpb=P_MUTATION,\n",
        "                                                  ngen=MAX_GENERATIONS,\n",
        "                                                  stats=mstats,\n",
        "                                                  halloffame=hof,\n",
        "                                                  verbose=True)"
      ],
      "execution_count": 52,
      "outputs": [
        {
          "output_type": "stream",
          "name": "stdout",
          "text": [
            "   \t      \t                    fitness                     \t                     size                    \n",
            "   \t      \t------------------------------------------------\t---------------------------------------------\n",
            "gen\tnevals\tavg  \tgen\tmax\tmin\tnevals\tstd     \tavg  \tgen\tmax\tmin\tnevals\tstd  \n",
            "0  \t1000  \t8.008\t0  \t9  \t7  \t1000  \t0.252856\t19.79\t0  \t56 \t4  \t1000  \t11.28\n",
            "1  \t818   \t7.965\t1  \t9  \t6  \t818   \t0.271616\t19.891\t1  \t58 \t1  \t818   \t11.9214\n",
            "2  \t804   \t7.943\t2  \t9  \t6  \t804   \t0.275229\t20.254\t2  \t68 \t1  \t804   \t12.7103\n",
            "3  \t760   \t7.922\t3  \t9  \t6  \t760   \t0.303177\t21.063\t3  \t69 \t2  \t760   \t13.7813\n",
            "4  \t795   \t7.912\t4  \t9  \t6  \t795   \t0.343884\t22.077\t4  \t93 \t2  \t795   \t14.403 \n",
            "5  \t800   \t7.881\t5  \t9  \t6  \t800   \t0.350484\t23.807\t5  \t100\t1  \t800   \t15.066 \n",
            "6  \t771   \t7.832\t6  \t9  \t6  \t771   \t0.412039\t25.298\t6  \t110\t1  \t771   \t15.8842\n",
            "7  \t812   \t7.742\t7  \t9  \t6  \t812   \t0.481078\t27.884\t7  \t115\t1  \t812   \t17.2321\n",
            "8  \t797   \t7.625\t8  \t9  \t6  \t797   \t0.542563\t31.873\t8  \t108\t1  \t797   \t17.8644\n",
            "9  \t822   \t7.531\t9  \t9  \t6  \t822   \t0.563062\t35.621\t9  \t120\t1  \t822   \t18.4539\n",
            "10 \t797   \t7.478\t10 \t9  \t6  \t797   \t0.580961\t38.195\t10 \t111\t1  \t797   \t17.8936\n",
            "11 \t793   \t7.37 \t11 \t9  \t5  \t793   \t0.595903\t41.631\t11 \t100\t2  \t793   \t18.6087\n",
            "12 \t804   \t7.329\t12 \t9  \t5  \t804   \t0.623505\t44.844\t12 \t119\t2  \t804   \t18.6254\n",
            "13 \t803   \t7.287\t13 \t9  \t5  \t803   \t0.642364\t47.323\t13 \t127\t2  \t803   \t18.8433\n",
            "14 \t817   \t7.233\t14 \t10 \t5  \t817   \t0.67135 \t49.954\t14 \t128\t1  \t817   \t19.1071\n",
            "15 \t778   \t7.133\t15 \t9  \t5  \t778   \t0.683601\t53.204\t15 \t127\t1  \t778   \t19.9413\n",
            "16 \t818   \t7.073\t16 \t10 \t5  \t818   \t0.719494\t55.514\t16 \t139\t3  \t818   \t20.9781\n",
            "17 \t810   \t6.985\t17 \t10 \t5  \t810   \t0.743488\t57.773\t17 \t130\t4  \t810   \t22.2839\n",
            "18 \t772   \t6.907\t18 \t10 \t5  \t772   \t0.755216\t59.345\t18 \t156\t4  \t772   \t21.9912\n",
            "19 \t825   \t6.806\t19 \t10 \t5  \t825   \t0.781258\t61.344\t19 \t147\t1  \t825   \t22.4565\n",
            "20 \t795   \t6.7  \t20 \t10 \t5  \t795   \t0.779744\t65.018\t20 \t188\t1  \t795   \t24.9373\n",
            "21 \t777   \t6.638\t21 \t10 \t5  \t777   \t0.822773\t66.838\t21 \t188\t3  \t777   \t25.3931\n",
            "22 \t783   \t6.53 \t22 \t10 \t5  \t783   \t0.815537\t70.104\t22 \t175\t6  \t783   \t26.2241\n",
            "23 \t812   \t6.462\t23 \t10 \t5  \t812   \t0.80533 \t74.606\t23 \t185\t6  \t812   \t26.5641\n",
            "24 \t797   \t6.404\t24 \t10 \t5  \t797   \t0.796733\t76.665\t24 \t187\t5  \t797   \t27.0071\n",
            "25 \t815   \t6.3  \t25 \t10 \t5  \t815   \t0.773305\t80.527\t25 \t180\t5  \t815   \t27.9713\n",
            "26 \t848   \t6.286\t26 \t10 \t5  \t848   \t0.808829\t82.686\t26 \t195\t9  \t848   \t28.6898\n",
            "27 \t792   \t6.199\t27 \t10 \t5  \t792   \t0.820609\t86.914\t27 \t194\t10 \t792   \t30.3608\n",
            "28 \t779   \t6.15 \t28 \t10 \t4  \t779   \t0.849412\t87.387\t28 \t194\t16 \t779   \t28.8873\n",
            "29 \t783   \t6.063\t29 \t9  \t4  \t783   \t0.833685\t88.976\t29 \t191\t1  \t783   \t29.7983\n",
            "30 \t840   \t6.046\t30 \t9  \t4  \t840   \t0.887628\t90.314\t30 \t191\t6  \t840   \t28.8498\n",
            "31 \t771   \t5.95 \t31 \t10 \t5  \t771   \t0.888538\t92.355\t31 \t178\t5  \t771   \t29.0907\n",
            "32 \t823   \t5.903\t32 \t10 \t4  \t823   \t0.930371\t94.931\t32 \t182\t18 \t823   \t29.2526\n",
            "33 \t803   \t5.836\t33 \t10 \t4  \t803   \t0.919295\t98.034\t33 \t259\t11 \t803   \t29.709 \n",
            "34 \t820   \t5.821\t34 \t9  \t4  \t820   \t0.998478\t99.075\t34 \t223\t15 \t820   \t32.0289\n",
            "35 \t801   \t5.71 \t35 \t9  \t4  \t801   \t0.927308\t101.284\t35 \t252\t6  \t801   \t31.3301\n",
            "36 \t815   \t5.629\t36 \t9  \t4  \t815   \t0.937741\t104.009\t36 \t210\t17 \t815   \t31.1119\n",
            "37 \t833   \t5.588\t37 \t9  \t3  \t833   \t0.970699\t107.691\t37 \t226\t1  \t833   \t31.9674\n",
            "38 \t812   \t5.458\t38 \t9  \t3  \t812   \t0.936075\t109.683\t38 \t226\t13 \t812   \t32.6609\n",
            "39 \t806   \t5.377\t39 \t9  \t3  \t806   \t0.975126\t110.872\t39 \t226\t15 \t806   \t32.7553\n",
            "40 \t804   \t5.354\t40 \t9  \t3  \t804   \t1.05673 \t111.305\t40 \t255\t1  \t804   \t36.8237\n",
            "41 \t797   \t5.273\t41 \t9  \t3  \t797   \t1.04903 \t116.46 \t41 \t246\t17 \t797   \t39.2185\n",
            "42 \t807   \t5.108\t42 \t9  \t3  \t807   \t1.06599 \t117.995\t42 \t253\t21 \t807   \t41.3825\n",
            "43 \t815   \t5.05 \t43 \t10 \t3  \t815   \t1.09247 \t124.078\t43 \t253\t18 \t815   \t41.6614\n",
            "44 \t826   \t4.913\t44 \t10 \t3  \t826   \t1.10337 \t128.096\t44 \t253\t13 \t826   \t45.1939\n",
            "45 \t824   \t4.778\t45 \t9  \t3  \t824   \t1.08292 \t133.727\t45 \t261\t13 \t824   \t47.901 \n",
            "46 \t803   \t4.658\t46 \t9  \t3  \t803   \t1.04357 \t137.305\t46 \t270\t16 \t803   \t47.9022\n",
            "47 \t815   \t4.574\t47 \t9  \t3  \t815   \t0.992232\t140.755\t47 \t251\t4  \t815   \t47.3042\n",
            "48 \t797   \t4.543\t48 \t9  \t3  \t797   \t1.06684 \t144.851\t48 \t263\t21 \t797   \t45.7303\n",
            "49 \t804   \t4.404\t49 \t9  \t3  \t804   \t0.999392\t146.743\t49 \t255\t18 \t804   \t46.0094\n",
            "50 \t817   \t4.344\t50 \t9  \t3  \t817   \t1.06192 \t147.568\t50 \t270\t3  \t817   \t46.873 \n"
          ]
        }
      ]
    },
    {
      "cell_type": "markdown",
      "metadata": {
        "id": "O0nLDxV5qJ6T"
      },
      "source": [
        "Extract our statistcs. This time our logbook has *chapters* because we have maintained multiple statistics."
      ]
    },
    {
      "cell_type": "code",
      "metadata": {
        "id": "E7ZAERipqJ6T",
        "colab": {
          "base_uri": "https://localhost:8080/",
          "height": 366
        },
        "outputId": "303de777-cfe0-45d9-dfa3-64044049c652"
      },
      "source": [
        "maxFitnessValues, meanFitnessValues = logbook.chapters['fitness'].select(\"min\", \"avg\")\n",
        "\n",
        "\n",
        "# print info for best solution found:\n",
        "best = hof.items[0]\n",
        "print(\"-- Best Individual = \", best)\n",
        "print(\"-- length={}, height={}\".format(len(best), best.height))\n",
        "print(\"-- Best Fitness = \", best.fitness.values[0])\n",
        "\n",
        "plt.plot(maxFitnessValues, color='red')\n",
        "plt.plot(meanFitnessValues, color='green')\n",
        "plt.xlabel('Generation')\n",
        "plt.ylabel('Max / Average Fitness')\n",
        "plt.title('Max and Average Fitness over Generations')\n",
        "plt.show()"
      ],
      "execution_count": 53,
      "outputs": [
        {
          "output_type": "stream",
          "name": "stdout",
          "text": [
            "-- Best Individual =  or_(and_(and_(or_(in_1, or_(in_1, and_(in_2, in_0))), in_3), and_(not_(and_(in_2, 0)), or_(in_0, or_(0, in_2)))), not_(and_(or_(or_(and_(0, 1), in_2), not_(or_(and_(or_(and_(not_(and_(in_3, not_(in_0))), and_(not_(in_2), in_1)), or_(and_(not_(and_(in_0, in_3)), or_(not_(not_(1)), in_3)), in_1)), not_(in_1)), and_(and_(0, or_(and_(not_(in_1), not_(in_2)), and_(and_(not_(or_(not_(not_(1)), and_(0, in_3))), and_(or_(1, in_3), and_(in_1, or_(and_(in_3, in_2), and_(in_1, 0))))), and_(0, in_2)))), in_0)))), or_(and_(in_1, in_2), or_(in_0, in_3)))))\n",
            "-- length=100, height=15\n",
            "-- Best Fitness =  3.0\n"
          ]
        },
        {
          "output_type": "display_data",
          "data": {
            "image/png": "[encoded data removed]",
            "text/plain": [
              "<Figure size 432x288 with 1 Axes>"
            ]
          },
          "metadata": {
            "needs_background": "light"
          }
        }
      ]
    },
    {
      "cell_type": "markdown",
      "metadata": {
        "id": "KKLb_OIjqJ6U"
      },
      "source": [
        "Now, this looks way more interesting than the Symbolic Regression graph as GP is really being made to work hard here!"
      ]
    },
    {
      "cell_type": "code",
      "metadata": {
        "id": "Qd3LYX1vqJ6V"
      },
      "source": [
        ""
      ],
      "execution_count": 53,
      "outputs": []
    }
  ]
}