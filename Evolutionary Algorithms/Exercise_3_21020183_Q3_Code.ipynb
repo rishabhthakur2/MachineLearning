{
  "nbformat": 4,
  "nbformat_minor": 0,
  "metadata": {
    "kernelspec": {
      "display_name": "Python 3",
      "language": "python",
      "name": "python3"
    },
    "language_info": {
      "codemirror_mode": {
        "name": "ipython",
        "version": 3
      },
      "file_extension": ".py",
      "mimetype": "text/x-python",
      "name": "python",
      "nbconvert_exporter": "python",
      "pygments_lexer": "ipython3",
      "version": "3.8.3"
    },
    "colab": {
      "name": "Exercise_3_21020183 Q3_Code.ipynb",
      "provenance": []
    }
  },
  "cells": [
    {
      "cell_type": "markdown",
      "metadata": {
        "id": "xysB8Q7Dk9Zs"
      },
      "source": [
        "# GP Applied to the Even-Parity Problem"
      ]
    },
    {
      "cell_type": "markdown",
      "metadata": {
        "id": "5rBm1TYMk9Zu"
      },
      "source": [
        "This time we apply GP to a Boolean problem -- this has a different type and different operators, but the algorithm remains the same.\n",
        "\n",
        "The code in this notebook is a bit tighter, that is, although slightly more difficult to read, it is a lot more reusable. First of all, here's a nice piece of code to widen our notebook to make to easier to read the output we get later on."
      ]
    },
    {
      "cell_type": "markdown",
      "metadata": {
        "id": "xuCPc7-6k9Zv"
      },
      "source": [
        "Install DEAP. "
      ]
    },
    {
      "cell_type": "code",
      "metadata": {
        "id": "lbawbdq4k9Zv",
        "colab": {
          "base_uri": "https://localhost:8080/"
        },
        "outputId": "fbf74757-ba21-4cf2-944d-50c1d74ad68a"
      },
      "source": [
        "!pip install deap"
      ],
      "execution_count": 43,
      "outputs": [
        {
          "output_type": "stream",
          "name": "stdout",
          "text": [
            "Requirement already satisfied: deap in /usr/local/lib/python3.7/dist-packages (1.3.1)\n",
            "Requirement already satisfied: numpy in /usr/local/lib/python3.7/dist-packages (from deap) (1.19.5)\n"
          ]
        }
      ]
    },
    {
      "cell_type": "code",
      "metadata": {
        "id": "rx-vRz8mk9Zv",
        "colab": {
          "base_uri": "https://localhost:8080/",
          "height": 17
        },
        "outputId": "e4305acc-57b5-4182-b4ca-2fc8b30597cb"
      },
      "source": [
        "from IPython.core.display import display, HTML\n",
        "display(HTML(\"<style>.container { width:100% !important; }</style>\"))"
      ],
      "execution_count": 44,
      "outputs": [
        {
          "output_type": "display_data",
          "data": {
            "text/html": [
              "<style>.container { width:100% !important; }</style>"
            ],
            "text/plain": [
              "<IPython.core.display.HTML object>"
            ]
          },
          "metadata": {}
        }
      ]
    },
    {
      "cell_type": "markdown",
      "metadata": {
        "id": "QiFuvbn1k9Zw"
      },
      "source": [
        "Import our tools as before, except this time we also include **itertools** and **networks** which contain some nice iterative tools (for creating our test set) and graph drawing functionality, respectively."
      ]
    },
    {
      "cell_type": "code",
      "metadata": {
        "id": "kj-TAM4qk9Zx"
      },
      "source": [
        "import operator\n",
        "import math\n",
        "import random\n",
        "\n",
        "import numpy\n",
        "\n",
        "from deap import algorithms\n",
        "from deap import base\n",
        "from deap import creator\n",
        "from deap import tools\n",
        "from deap import gp\n",
        "\n",
        "\n",
        "import matplotlib.pyplot as plt\n",
        "\n",
        "import itertools\n",
        "import networkx as nx\n",
        "\n"
      ],
      "execution_count": 45,
      "outputs": []
    },
    {
      "cell_type": "markdown",
      "metadata": {
        "id": "EQ4TJ6a6k9Zx"
      },
      "source": [
        "Set our Genetic Programming parameters.  Notice that these are virtually the same as the GA ones."
      ]
    },
    {
      "cell_type": "code",
      "metadata": {
        "id": "816Yl3D_k9Zx"
      },
      "source": [
        "# Genetic Programming constants:\n",
        "POPULATION_SIZE = 2000\n",
        "P_CROSSOVER = 0.9\n",
        "P_MUTATION = 0.01\n",
        "MAX_GENERATIONS = 200\n",
        "HALL_OF_FAME_SIZE = 10\n"
      ],
      "execution_count": 46,
      "outputs": []
    },
    {
      "cell_type": "markdown",
      "metadata": {
        "id": "tsHKf0_2k9Zx"
      },
      "source": [
        "Set the random seed. "
      ]
    },
    {
      "cell_type": "code",
      "metadata": {
        "id": "Cg4K_Gj6k9Zy"
      },
      "source": [
        "RANDOM_SEED = 412\n",
        "random.seed(RANDOM_SEED)"
      ],
      "execution_count": 47,
      "outputs": []
    },
    {
      "cell_type": "markdown",
      "metadata": {
        "id": "gztI0fCvk9Zy"
      },
      "source": [
        "Here are some GP-specific constants. Keeping them together like this will make later editing easier."
      ]
    },
    {
      "cell_type": "code",
      "metadata": {
        "id": "hmlAYKmbk9Zy"
      },
      "source": [
        "MIN_TREE_HEIGHT = 3\n",
        "MAX_TREE_HEIGHT = 5\n",
        "LIMIT_TREE_HEIGHT = 17\n",
        "MUT_MIN_TREE_HEIGHT = 0\n",
        "MUT_MAX_TREE_HEIGHT = 2"
      ],
      "execution_count": 48,
      "outputs": []
    },
    {
      "cell_type": "markdown",
      "metadata": {
        "id": "-7HcCKgxk9Zy"
      },
      "source": [
        "Some problem constants. One nice thing about this problem is that it is of scalable difficulty, so we name make it more difficult simply by increasing the number of inputs."
      ]
    },
    {
      "cell_type": "code",
      "metadata": {
        "id": "fkPjHOTzk9Zz"
      },
      "source": [
        "NUM_INPUTS = 6\n",
        "NUM_COMBINATIONS = 2 ** NUM_INPUTS"
      ],
      "execution_count": 49,
      "outputs": []
    },
    {
      "cell_type": "markdown",
      "metadata": {
        "id": "5MpGbG5Xk9Zz"
      },
      "source": [
        "Here's our fitness function. This is a bit more involved than before as we first create all our test cases and then write a function to calculate the party error. We declare a wrapper function, **getCost** to make this code more resuable. This way we can change the fitness function and we only need to change the name in **getCost**."
      ]
    },
    {
      "cell_type": "code",
      "metadata": {
        "id": "KyXm_gesk9Zz"
      },
      "source": [
        "# calculate the truth table of even parity check:\n",
        "parityIn = list(itertools.product([0, 1], repeat=NUM_INPUTS))\n",
        "parityOut = []\n",
        "for row in parityIn:\n",
        "    parityOut.append(sum(row) % 2)\n",
        "    \n",
        "# calculate the difference between the results of the\n",
        "# generated function and the expected parity results:\n",
        "def parityError(individual):\n",
        "    func = toolbox.compile(expr=individual)\n",
        "    return sum(func(*pIn) != pOut for pIn, pOut in zip(parityIn, parityOut))\n",
        "\n",
        "# fitness measure:\n",
        "def getCost(individual):\n",
        "    return parityError(individual), # return a tuple"
      ],
      "execution_count": 50,
      "outputs": []
    },
    {
      "cell_type": "markdown",
      "metadata": {
        "id": "gKFyrdNsk9Z0"
      },
      "source": [
        "Add our functions and terminals. This time we are using Boolean operators and values."
      ]
    },
    {
      "cell_type": "code",
      "metadata": {
        "id": "luY6eqnZk9Z0"
      },
      "source": [
        "# create the primitive set:\n",
        "primitiveSet = gp.PrimitiveSet(\"main\", NUM_INPUTS, \"in_\")\n",
        "primitiveSet.addPrimitive(operator.and_, 2)\n",
        "primitiveSet.addPrimitive(operator.or_, 2)\n",
        "\n",
        "# add terminal values:\n",
        "primitiveSet.addTerminal(1)\n",
        "primitiveSet.addTerminal(0)"
      ],
      "execution_count": 58,
      "outputs": []
    },
    {
      "cell_type": "markdown",
      "metadata": {
        "id": "l3htVD9dk9Z0"
      },
      "source": [
        "Create our toolbox. This is very similar to the Symbolic Regression notebook except we are using the parameters declared up above."
      ]
    },
    {
      "cell_type": "code",
      "metadata": {
        "id": "boET8U-ak9Z1",
        "colab": {
          "base_uri": "https://localhost:8080/"
        },
        "outputId": "9690e5c8-6db7-4ad6-be32-a999e9063d2c"
      },
      "source": [
        "toolbox = base.Toolbox()\n",
        "\n",
        "# define a single objective, minimizing fitness strategy:\n",
        "creator.create(\"FitnessMin\", base.Fitness, weights=(-1.0,))\n",
        "\n",
        "# create the Individual class based on the primitive tree:\n",
        "creator.create(\"Individual\", gp.PrimitiveTree, fitness=creator.FitnessMin)\n",
        "\n",
        "# create a helper function for creating random trees using the primitive set:\n",
        "toolbox.register(\"expr\", gp.genFull, pset=primitiveSet, min_=MIN_TREE_HEIGHT, max_=MAX_TREE_HEIGHT)\n",
        "\n",
        "# create the individual operator to fill up an Individual instance:\n",
        "toolbox.register(\"individualCreator\", tools.initIterate, creator.Individual, toolbox.expr)\n",
        "\n",
        "# create the population operator to generate a list of individuals:\n",
        "toolbox.register(\"populationCreator\", tools.initRepeat, list, toolbox.individualCreator)\n",
        "\n",
        "# create an operator to compile the primitive tree into python code:\n",
        "toolbox.register(\"compile\", gp.compile, pset=primitiveSet)\n",
        "\n",
        "toolbox.register(\"evaluate\", getCost)\n",
        "\n",
        "# genetic operators:\n",
        "toolbox.register(\"select\", tools.selTournament, tournsize=2)\n",
        "toolbox.register(\"mate\", gp.cxOnePoint)\n",
        "toolbox.register(\"expr_mut\", gp.genGrow, min_=MUT_MIN_TREE_HEIGHT, max_=MUT_MAX_TREE_HEIGHT)\n",
        "toolbox.register(\"mutate\", gp.mutUniform, expr=toolbox.expr_mut, pset=primitiveSet)\n",
        "\n",
        "# bloat control:\n",
        "toolbox.decorate(\"mate\", gp.staticLimit(key=operator.attrgetter(\"height\"), max_value=LIMIT_TREE_HEIGHT))\n",
        "toolbox.decorate(\"mutate\", gp.staticLimit(key=operator.attrgetter(\"height\"), max_value=LIMIT_TREE_HEIGHT))\n",
        "\n"
      ],
      "execution_count": 59,
      "outputs": [
        {
          "output_type": "stream",
          "name": "stderr",
          "text": [
            "/usr/local/lib/python3.7/dist-packages/deap/creator.py:141: RuntimeWarning: A class named 'FitnessMin' has already been created and it will be overwritten. Consider deleting previous creation of that class or rename it.\n",
            "  RuntimeWarning)\n",
            "/usr/local/lib/python3.7/dist-packages/deap/creator.py:141: RuntimeWarning: A class named 'Individual' has already been created and it will be overwritten. Consider deleting previous creation of that class or rename it.\n",
            "  RuntimeWarning)\n"
          ]
        }
      ]
    },
    {
      "cell_type": "markdown",
      "metadata": {
        "id": "J_xR1Mg_k9Z1"
      },
      "source": [
        "Set up our population as before"
      ]
    },
    {
      "cell_type": "code",
      "metadata": {
        "id": "NL3XVfCgk9Z1"
      },
      "source": [
        "population = toolbox.populationCreator(n=POPULATION_SIZE)\n",
        "# define the hall-of-fame object:\n",
        "hof = tools.HallOfFame(HALL_OF_FAME_SIZE)   \n"
      ],
      "execution_count": 60,
      "outputs": []
    },
    {
      "cell_type": "markdown",
      "metadata": {
        "id": "rJCn9FuHk9Z2"
      },
      "source": [
        "Create a statistics object. This time we're going to use the **MultiStatistics** tool because we want to record statistics about **size** as well as **fitness**."
      ]
    },
    {
      "cell_type": "code",
      "metadata": {
        "id": "8uN4zlu-k9Z2"
      },
      "source": [
        "stats_fit = tools.Statistics(lambda ind: ind.fitness.values)\n",
        "stats_size = tools.Statistics(len)\n",
        "mstats = tools.MultiStatistics(fitness=stats_fit, size=stats_size)\n",
        "mstats.register(\"avg\", numpy.mean)\n",
        "mstats.register(\"std\", numpy.std)\n",
        "mstats.register(\"min\", numpy.min)\n",
        "mstats.register(\"max\", numpy.max)\n"
      ],
      "execution_count": 61,
      "outputs": []
    },
    {
      "cell_type": "markdown",
      "metadata": {
        "id": "tv-65Tgtk9Z2"
      },
      "source": [
        "Run our GP. Notice how much slower this one is, due to the much larger population size. "
      ]
    },
    {
      "cell_type": "code",
      "metadata": {
        "id": "oXseaaIWk9Z2",
        "colab": {
          "base_uri": "https://localhost:8080/"
        },
        "outputId": "73156fe8-a381-4a3b-f561-65f335bcc44b"
      },
      "source": [
        "population, logbook = algorithms.eaSimple(population,\n",
        "                                                  toolbox,\n",
        "                                                  cxpb=P_CROSSOVER,\n",
        "                                                  mutpb=P_MUTATION,\n",
        "                                                  ngen=MAX_GENERATIONS,\n",
        "                                                  stats=mstats,\n",
        "                                                  halloffame=hof,\n",
        "                                                  verbose=True)"
      ],
      "execution_count": 56,
      "outputs": [
        {
          "output_type": "stream",
          "name": "stdout",
          "text": [
            "   \t      \t                    fitness                     \t                      size                     \n",
            "   \t      \t------------------------------------------------\t-----------------------------------------------\n",
            "gen\tnevals\tavg    \tgen\tmax\tmin\tnevals\tstd     \tavg   \tgen\tmax\tmin\tnevals\tstd    \n",
            "0  \t2000  \t31.9995\t0  \t35 \t28 \t2000  \t0.506458\t36.056\t0  \t63 \t15 \t2000  \t19.7206\n",
            "1  \t1780  \t31.849 \t1  \t34 \t28 \t1780  \t0.488056\t35.923\t1  \t93 \t9  \t1780  \t20.0369\n",
            "2  \t1813  \t31.785 \t2  \t34 \t28 \t1813  \t0.552969\t37.552\t2  \t99 \t3  \t1813  \t20.9234\n",
            "3  \t1791  \t31.659 \t3  \t34 \t28 \t1791  \t0.629856\t40.52 \t3  \t105\t1  \t1791  \t21.6602\n",
            "4  \t1815  \t31.5475\t4  \t34 \t28 \t1815  \t0.699102\t43.642\t4  \t117\t3  \t1815  \t22.316 \n",
            "5  \t1829  \t31.395 \t5  \t33 \t28 \t1829  \t0.733468\t47.491\t5  \t119\t1  \t1829  \t21.9846\n",
            "6  \t1806  \t31.256 \t6  \t35 \t28 \t1806  \t0.798413\t51.868\t6  \t153\t1  \t1806  \t21.9247\n",
            "7  \t1807  \t31.075 \t7  \t34 \t28 \t1807  \t0.837481\t56.587\t7  \t167\t3  \t1807  \t21.8917\n",
            "8  \t1805  \t30.9515\t8  \t33 \t28 \t1805  \t0.874727\t60.93 \t8  \t167\t5  \t1805  \t22.0287\n",
            "9  \t1781  \t30.772 \t9  \t34 \t28 \t1781  \t0.926831\t64.733\t9  \t165\t1  \t1781  \t21.7479\n",
            "10 \t1826  \t30.639 \t10 \t34 \t28 \t1826  \t0.967822\t68.301\t10 \t161\t1  \t1826  \t21.9311\n",
            "11 \t1804  \t30.474 \t11 \t33 \t27 \t1804  \t1.00316 \t70.93 \t11 \t155\t1  \t1804  \t22.634 \n",
            "12 \t1812  \t30.259 \t12 \t36 \t27 \t1812  \t1.0178  \t74.115\t12 \t175\t3  \t1812  \t23.3743\n",
            "13 \t1798  \t30.157 \t13 \t34 \t27 \t1798  \t1.06787 \t77.806\t13 \t195\t3  \t1798  \t25.1065\n",
            "14 \t1799  \t29.9315\t14 \t34 \t26 \t1799  \t1.099   \t82.08 \t14 \t201\t13 \t1799  \t26.6717\n",
            "15 \t1783  \t29.753 \t15 \t33 \t26 \t1783  \t1.14673 \t86.232\t15 \t203\t1  \t1783  \t28.5099\n",
            "16 \t1813  \t29.589 \t16 \t34 \t26 \t1813  \t1.17349 \t89.86 \t16 \t211\t3  \t1813  \t29.3151\n",
            "17 \t1828  \t29.3745\t17 \t34 \t26 \t1828  \t1.19802 \t94.438\t17 \t203\t23 \t1828  \t30.241 \n",
            "18 \t1816  \t29.2345\t18 \t34 \t26 \t1816  \t1.2488  \t97.893\t18 \t241\t15 \t1816  \t31.5125\n",
            "19 \t1793  \t29.0645\t19 \t34 \t25 \t1793  \t1.2741  \t101.159\t19 \t229\t13 \t1793  \t33.6743\n",
            "20 \t1801  \t28.907 \t20 \t34 \t25 \t1801  \t1.29474 \t104.343\t20 \t227\t23 \t1801  \t34.4555\n",
            "21 \t1778  \t28.697 \t21 \t33 \t25 \t1778  \t1.26893 \t109.765\t21 \t249\t23 \t1778  \t35.949 \n",
            "22 \t1796  \t28.5355\t22 \t33 \t25 \t1796  \t1.27857 \t114.688\t22 \t247\t25 \t1796  \t36.6629\n",
            "23 \t1838  \t28.389 \t23 \t33 \t25 \t1838  \t1.30869 \t118.648\t23 \t249\t23 \t1838  \t38.94  \n",
            "24 \t1789  \t28.2465\t24 \t34 \t25 \t1789  \t1.32806 \t122.152\t24 \t315\t7  \t1789  \t39.6105\n",
            "25 \t1777  \t28.061 \t25 \t33 \t25 \t1777  \t1.32826 \t128.252\t25 \t251\t13 \t1777  \t40.5401\n",
            "26 \t1806  \t27.886 \t26 \t33 \t25 \t1806  \t1.33229 \t130.134\t26 \t259\t25 \t1806  \t41.7366\n",
            "27 \t1809  \t27.8025\t27 \t33 \t25 \t1809  \t1.41085 \t132.249\t27 \t267\t25 \t1809  \t42.4007\n",
            "28 \t1845  \t27.7085\t28 \t33 \t25 \t1845  \t1.45758 \t134.758\t28 \t291\t1  \t1845  \t43.2085\n",
            "29 \t1801  \t27.5205\t29 \t33 \t25 \t1801  \t1.41194 \t135.682\t29 \t267\t21 \t1801  \t42.6742\n",
            "30 \t1819  \t27.36  \t30 \t34 \t25 \t1819  \t1.4541  \t137.853\t30 \t289\t29 \t1819  \t42.0687\n",
            "31 \t1839  \t27.205 \t31 \t33 \t25 \t1839  \t1.45944 \t139.858\t31 \t299\t33 \t1839  \t40.9731\n",
            "32 \t1794  \t27.0165\t32 \t34 \t24 \t1794  \t1.45438 \t141.202\t32 \t299\t25 \t1794  \t40.8291\n",
            "33 \t1815  \t26.9095\t33 \t34 \t24 \t1815  \t1.50077 \t143.068\t33 \t301\t23 \t1815  \t40.6159\n",
            "34 \t1794  \t26.807 \t34 \t33 \t24 \t1794  \t1.54167 \t144.59 \t34 \t311\t27 \t1794  \t38.7652\n",
            "35 \t1817  \t26.6425\t35 \t33 \t24 \t1817  \t1.53841 \t147.375\t35 \t297\t25 \t1817  \t38.4871\n",
            "36 \t1822  \t26.534 \t36 \t34 \t24 \t1822  \t1.5208  \t147.926\t36 \t321\t27 \t1822  \t38.4937\n",
            "37 \t1816  \t26.4185\t37 \t34 \t24 \t1816  \t1.47694 \t150.001\t37 \t329\t19 \t1816  \t39.3528\n",
            "38 \t1808  \t26.325 \t38 \t34 \t24 \t1808  \t1.54058 \t153.433\t38 \t335\t25 \t1808  \t39.3512\n",
            "39 \t1804  \t26.206 \t39 \t33 \t23 \t1804  \t1.52956 \t155.914\t39 \t335\t31 \t1804  \t38.5738\n",
            "40 \t1800  \t26.1405\t40 \t33 \t23 \t1800  \t1.54718 \t158.234\t40 \t335\t43 \t1800  \t39.3259\n",
            "41 \t1828  \t26.011 \t41 \t33 \t23 \t1828  \t1.55688 \t160.874\t41 \t335\t23 \t1828  \t41.9851\n",
            "42 \t1802  \t25.9175\t42 \t33 \t23 \t1802  \t1.60084 \t164.61 \t42 \t375\t1  \t1802  \t42.9594\n",
            "43 \t1871  \t25.8505\t43 \t33 \t23 \t1871  \t1.60908 \t168.923\t43 \t389\t25 \t1871  \t46.756 \n",
            "44 \t1781  \t25.6805\t44 \t33 \t23 \t1781  \t1.59104 \t173.517\t44 \t389\t43 \t1781  \t50.5073\n",
            "45 \t1796  \t25.509 \t45 \t32 \t23 \t1796  \t1.56809 \t177.95 \t45 \t445\t19 \t1796  \t55.4095\n",
            "46 \t1828  \t25.426 \t46 \t33 \t23 \t1828  \t1.63693 \t185.547\t46 \t413\t33 \t1828  \t59.3024\n",
            "47 \t1810  \t25.218 \t47 \t32 \t23 \t1810  \t1.53671 \t194.608\t47 \t469\t33 \t1810  \t63.8239\n",
            "48 \t1815  \t25.098 \t48 \t32 \t22 \t1815  \t1.61474 \t207.509\t48 \t471\t25 \t1815  \t64.9947\n",
            "49 \t1806  \t24.9495\t49 \t32 \t22 \t1806  \t1.60404 \t217.955\t49 \t545\t51 \t1806  \t66.2887\n",
            "50 \t1815  \t24.7235\t50 \t32 \t22 \t1815  \t1.55114 \t228.092\t50 \t545\t47 \t1815  \t65.4357\n",
            "51 \t1793  \t24.5895\t51 \t33 \t22 \t1793  \t1.50432 \t235.263\t51 \t545\t43 \t1793  \t61.9439\n",
            "52 \t1795  \t24.422 \t52 \t32 \t22 \t1795  \t1.42686 \t244.736\t52 \t559\t35 \t1795  \t62.8826\n",
            "53 \t1808  \t24.3445\t53 \t32 \t22 \t1808  \t1.51322 \t249.611\t53 \t561\t39 \t1808  \t62.1746\n",
            "54 \t1813  \t24.2065\t54 \t32 \t22 \t1813  \t1.48858 \t256.496\t54 \t561\t53 \t1813  \t59.2035\n",
            "55 \t1792  \t24.079 \t55 \t33 \t22 \t1792  \t1.45834 \t261.151\t55 \t561\t57 \t1792  \t57.9682\n",
            "56 \t1804  \t23.886 \t56 \t32 \t22 \t1804  \t1.41704 \t264.655\t56 \t557\t91 \t1804  \t53.8055\n",
            "57 \t1750  \t23.79  \t57 \t32 \t22 \t1750  \t1.46284 \t266.751\t57 \t557\t73 \t1750  \t55.3061\n",
            "58 \t1832  \t23.7305\t58 \t32 \t22 \t1832  \t1.51389 \t268.555\t58 \t521\t87 \t1832  \t54.7892\n",
            "59 \t1803  \t23.641 \t59 \t32 \t22 \t1803  \t1.52221 \t272.649\t59 \t517\t89 \t1803  \t55.9443\n",
            "60 \t1802  \t23.542 \t60 \t32 \t22 \t1802  \t1.54862 \t273.422\t60 \t517\t85 \t1802  \t55.9758\n",
            "61 \t1795  \t23.4035\t61 \t33 \t22 \t1795  \t1.51911 \t274.405\t61 \t515\t75 \t1795  \t52.0824\n",
            "62 \t1787  \t23.28  \t62 \t32 \t22 \t1787  \t1.6114  \t274.172\t62 \t537\t53 \t1787  \t51.6097\n",
            "63 \t1811  \t23.132 \t63 \t32 \t22 \t1811  \t1.57117 \t274.161\t63 \t537\t51 \t1811  \t50.5155\n",
            "64 \t1808  \t23.0835\t64 \t32 \t22 \t1808  \t1.60609 \t273.146\t64 \t537\t67 \t1808  \t49.8636\n",
            "65 \t1791  \t22.9685\t65 \t32 \t22 \t1791  \t1.54483 \t274.735\t65 \t545\t83 \t1791  \t46.335 \n",
            "66 \t1805  \t22.8865\t66 \t32 \t22 \t1805  \t1.46888 \t275.578\t66 \t499\t99 \t1805  \t44.8282\n",
            "67 \t1780  \t22.867 \t67 \t32 \t22 \t1780  \t1.50144 \t276.328\t67 \t495\t73 \t1780  \t43.869 \n",
            "68 \t1810  \t22.813 \t68 \t33 \t22 \t1810  \t1.49734 \t277.351\t68 \t487\t85 \t1810  \t43.8692\n",
            "69 \t1816  \t22.86  \t69 \t32 \t22 \t1816  \t1.50811 \t279.024\t69 \t453\t89 \t1816  \t45.2886\n",
            "70 \t1779  \t22.808 \t70 \t32 \t22 \t1779  \t1.46258 \t280.86 \t70 \t441\t89 \t1779  \t45.2355\n",
            "71 \t1816  \t22.7905\t71 \t32 \t22 \t1816  \t1.43165 \t282.631\t71 \t445\t51 \t1816  \t44.8334\n",
            "72 \t1793  \t22.844 \t72 \t32 \t22 \t1793  \t1.5158  \t283.058\t72 \t441\t85 \t1793  \t46.1286\n",
            "73 \t1766  \t22.7945\t73 \t32 \t22 \t1766  \t1.45749 \t283.55 \t73 \t441\t67 \t1766  \t46.3643\n",
            "74 \t1793  \t22.839 \t74 \t32 \t22 \t1793  \t1.56399 \t284.976\t74 \t461\t3  \t1793  \t48.2187\n",
            "75 \t1793  \t22.794 \t75 \t32 \t22 \t1793  \t1.48781 \t286.714\t75 \t463\t91 \t1793  \t47.2508\n",
            "76 \t1794  \t22.7715\t76 \t32 \t22 \t1794  \t1.47319 \t288.191\t76 \t499\t93 \t1794  \t49.1062\n",
            "77 \t1820  \t22.7845\t77 \t32 \t22 \t1820  \t1.49668 \t289.493\t77 \t501\t3  \t1820  \t50.4737\n",
            "78 \t1814  \t22.788 \t78 \t32 \t22 \t1814  \t1.53787 \t291.909\t78 \t503\t83 \t1814  \t52.5913\n",
            "79 \t1802  \t22.807 \t79 \t32 \t22 \t1802  \t1.52832 \t290.708\t79 \t505\t91 \t1802  \t52.7285\n",
            "80 \t1803  \t22.743 \t80 \t32 \t22 \t1803  \t1.48289 \t291.669\t80 \t505\t81 \t1803  \t54.2978\n",
            "81 \t1792  \t22.779 \t81 \t32 \t22 \t1792  \t1.53498 \t293.545\t81 \t505\t99 \t1792  \t56.1069\n",
            "82 \t1831  \t22.779 \t82 \t32 \t22 \t1831  \t1.44089 \t298.003\t82 \t505\t99 \t1831  \t56.3078\n",
            "83 \t1768  \t22.7185\t83 \t33 \t22 \t1768  \t1.39149 \t303.078\t83 \t521\t103\t1768  \t55.9963\n",
            "84 \t1779  \t22.765 \t84 \t32 \t22 \t1779  \t1.46894 \t306.942\t84 \t519\t115\t1779  \t56.1509\n",
            "85 \t1809  \t22.798 \t85 \t32 \t22 \t1809  \t1.4701  \t308.353\t85 \t519\t91 \t1809  \t58.5008\n",
            "86 \t1813  \t22.768 \t86 \t32 \t22 \t1813  \t1.50969 \t313.92 \t86 \t511\t83 \t1813  \t59.8818\n",
            "87 \t1761  \t22.675 \t87 \t32 \t22 \t1761  \t1.39046 \t316.957\t87 \t561\t81 \t1761  \t63.8176\n",
            "88 \t1841  \t22.758 \t88 \t32 \t22 \t1841  \t1.52461 \t319.492\t88 \t529\t1  \t1841  \t66.5707\n",
            "89 \t1819  \t22.733 \t89 \t32 \t22 \t1819  \t1.44869 \t322.782\t89 \t561\t85 \t1819  \t66.2747\n",
            "90 \t1808  \t22.7265\t90 \t32 \t22 \t1808  \t1.46857 \t325.036\t90 \t553\t79 \t1808  \t66.2827\n",
            "91 \t1777  \t22.7155\t91 \t33 \t22 \t1777  \t1.44137 \t327.242\t91 \t533\t113\t1777  \t65.9124\n",
            "92 \t1787  \t22.719 \t92 \t32 \t22 \t1787  \t1.48292 \t328.828\t92 \t527\t95 \t1787  \t66.022 \n",
            "93 \t1809  \t22.645 \t93 \t32 \t22 \t1809  \t1.39031 \t327.646\t93 \t575\t79 \t1809  \t65.1475\n",
            "94 \t1808  \t22.633 \t94 \t31 \t22 \t1808  \t1.27488 \t330.431\t94 \t545\t113\t1808  \t66.1887\n",
            "95 \t1779  \t22.626 \t95 \t32 \t22 \t1779  \t1.32971 \t332.545\t95 \t563\t115\t1779  \t66.3897\n",
            "96 \t1814  \t22.6335\t96 \t32 \t22 \t1814  \t1.32596 \t331.551\t96 \t551\t101\t1814  \t66.2475\n",
            "97 \t1800  \t22.679 \t97 \t33 \t22 \t1800  \t1.40889 \t331.483\t97 \t551\t99 \t1800  \t64.8234\n",
            "98 \t1812  \t22.668 \t98 \t33 \t22 \t1812  \t1.42013 \t336.499\t98 \t529\t101\t1812  \t66.3453\n",
            "99 \t1790  \t22.668 \t99 \t32 \t22 \t1790  \t1.43763 \t336.334\t99 \t539\t77 \t1790  \t66.612 \n",
            "100\t1814  \t22.695 \t100\t32 \t22 \t1814  \t1.36454 \t337.787\t100\t535\t75 \t1814  \t66.9873\n",
            "101\t1834  \t22.706 \t101\t32 \t22 \t1834  \t1.46852 \t336.559\t101\t549\t1  \t1834  \t68.6335\n",
            "102\t1792  \t22.649 \t102\t32 \t22 \t1792  \t1.32544 \t338.235\t102\t551\t91 \t1792  \t67.7187\n",
            "103\t1822  \t22.732 \t103\t33 \t22 \t1822  \t1.50571 \t337.14 \t103\t561\t77 \t1822  \t70.0951\n",
            "104\t1804  \t22.691 \t104\t32 \t22 \t1804  \t1.46442 \t338.61 \t104\t553\t75 \t1804  \t67.865 \n",
            "105\t1802  \t22.636 \t105\t32 \t22 \t1802  \t1.32948 \t339.31 \t105\t561\t153\t1802  \t66.6083\n",
            "106\t1799  \t22.7075\t106\t32 \t22 \t1799  \t1.4422  \t342.031\t106\t561\t91 \t1799  \t68.0652\n",
            "107\t1815  \t22.674 \t107\t32 \t22 \t1815  \t1.42609 \t343.941\t107\t583\t89 \t1815  \t66.2992\n",
            "108\t1782  \t22.6905\t108\t32 \t22 \t1782  \t1.46106 \t344.188\t108\t581\t87 \t1782  \t67.5952\n",
            "109\t1793  \t22.721 \t109\t32 \t22 \t1793  \t1.46702 \t345.83 \t109\t523\t95 \t1793  \t66.5577\n",
            "110\t1852  \t22.67  \t110\t32 \t22 \t1852  \t1.34726 \t349.016\t110\t581\t91 \t1852  \t66.9542\n",
            "111\t1810  \t22.6345\t111\t33 \t22 \t1810  \t1.33188 \t350.716\t111\t527\t91 \t1810  \t65.5399\n",
            "112\t1787  \t22.624 \t112\t33 \t22 \t1787  \t1.38442 \t351.356\t112\t523\t89 \t1787  \t66.4857\n",
            "113\t1782  \t22.6375\t113\t33 \t22 \t1782  \t1.42411 \t353.417\t113\t539\t97 \t1782  \t65.3702\n",
            "114\t1782  \t22.5975\t114\t32 \t22 \t1782  \t1.35259 \t355.436\t114\t527\t99 \t1782  \t65.0316\n",
            "115\t1815  \t22.618 \t115\t32 \t22 \t1815  \t1.36531 \t356.016\t115\t531\t83 \t1815  \t63.6268\n",
            "116\t1825  \t22.639 \t116\t32 \t22 \t1825  \t1.383   \t356.562\t116\t545\t105\t1825  \t64.95  \n",
            "117\t1823  \t22.637 \t117\t32 \t22 \t1823  \t1.41253 \t359.03 \t117\t547\t83 \t1823  \t64.4095\n",
            "118\t1814  \t22.6295\t118\t32 \t22 \t1814  \t1.37885 \t357.791\t118\t551\t187\t1814  \t63.1736\n",
            "119\t1826  \t22.628 \t119\t32 \t22 \t1826  \t1.33402 \t354.78 \t119\t625\t81 \t1826  \t65.9729\n",
            "120\t1776  \t22.5705\t120\t32 \t22 \t1776  \t1.27829 \t356.403\t120\t623\t103\t1776  \t65.9128\n",
            "121\t1793  \t22.545 \t121\t32 \t22 \t1793  \t1.2771  \t357.741\t121\t623\t121\t1793  \t66.7182\n",
            "122\t1833  \t22.6045\t122\t32 \t22 \t1833  \t1.34092 \t357.187\t122\t637\t81 \t1833  \t67.5037\n",
            "123\t1778  \t22.625 \t123\t32 \t22 \t1778  \t1.35476 \t360.174\t123\t637\t103\t1778  \t67.2621\n",
            "124\t1789  \t22.615 \t124\t32 \t22 \t1789  \t1.35933 \t361.681\t124\t651\t79 \t1789  \t66.5582\n",
            "125\t1746  \t22.5875\t125\t32 \t22 \t1746  \t1.38865 \t361.553\t125\t655\t83 \t1746  \t66.271 \n",
            "126\t1790  \t22.5585\t126\t32 \t22 \t1790  \t1.31399 \t363.286\t126\t645\t1  \t1790  \t65.2396\n",
            "127\t1751  \t22.61  \t127\t32 \t22 \t1751  \t1.34533 \t363.352\t127\t645\t143\t1751  \t63.6248\n",
            "128\t1786  \t22.6325\t128\t32 \t22 \t1786  \t1.41225 \t361.981\t128\t641\t63 \t1786  \t64.2116\n",
            "129\t1826  \t22.568 \t129\t32 \t22 \t1826  \t1.29861 \t362.884\t129\t643\t105\t1826  \t65.5112\n",
            "130\t1775  \t22.573 \t130\t33 \t22 \t1775  \t1.29138 \t364.916\t130\t643\t65 \t1775  \t66.6341\n",
            "131\t1791  \t22.6305\t131\t32 \t22 \t1791  \t1.36527 \t365.225\t131\t643\t107\t1791  \t68.0524\n",
            "132\t1782  \t22.5795\t132\t32 \t22 \t1782  \t1.34821 \t366.767\t132\t641\t119\t1782  \t65.6595\n",
            "133\t1780  \t22.5925\t133\t32 \t22 \t1780  \t1.35183 \t367.289\t133\t641\t121\t1780  \t66.0993\n",
            "134\t1814  \t22.603 \t134\t32 \t22 \t1814  \t1.3234  \t369.426\t134\t643\t105\t1814  \t65.7987\n",
            "135\t1838  \t22.623 \t135\t33 \t22 \t1838  \t1.37582 \t370.19 \t135\t643\t1  \t1838  \t69.471 \n",
            "136\t1807  \t22.5755\t136\t32 \t22 \t1807  \t1.31351 \t370.686\t136\t639\t95 \t1807  \t71.5561\n",
            "137\t1775  \t22.5905\t137\t32 \t22 \t1775  \t1.37543 \t372.315\t137\t639\t91 \t1775  \t72.4363\n",
            "138\t1796  \t22.579 \t138\t32 \t22 \t1796  \t1.32203 \t373.321\t138\t653\t97 \t1796  \t73.6247\n",
            "139\t1819  \t22.6065\t139\t32 \t22 \t1819  \t1.41974 \t374.523\t139\t653\t127\t1819  \t72.7648\n",
            "140\t1779  \t22.577 \t140\t33 \t22 \t1779  \t1.32177 \t376.103\t140\t659\t107\t1779  \t73.1444\n",
            "141\t1782  \t22.6045\t141\t33 \t22 \t1782  \t1.37698 \t381.393\t141\t715\t113\t1782  \t71.8349\n",
            "142\t1796  \t22.5635\t142\t32 \t22 \t1796  \t1.24297 \t383.74 \t142\t715\t115\t1796  \t72.3909\n",
            "143\t1792  \t22.604 \t143\t32 \t22 \t1792  \t1.42028 \t387.19 \t143\t727\t69 \t1792  \t72.277 \n",
            "144\t1811  \t22.541 \t144\t32 \t22 \t1811  \t1.27606 \t391.419\t144\t713\t117\t1811  \t69.7249\n",
            "145\t1808  \t22.526 \t145\t32 \t22 \t1808  \t1.25392 \t392.479\t145\t713\t87 \t1808  \t71.4906\n",
            "146\t1806  \t22.532 \t146\t32 \t22 \t1806  \t1.30766 \t394.166\t146\t717\t63 \t1806  \t72.0136\n",
            "147\t1785  \t22.547 \t147\t32 \t22 \t1785  \t1.2668  \t396.896\t147\t719\t129\t1785  \t70     \n",
            "148\t1785  \t22.5305\t148\t32 \t22 \t1785  \t1.26177 \t401.194\t148\t719\t111\t1785  \t71.7952\n",
            "149\t1784  \t22.4835\t149\t32 \t22 \t1784  \t1.17163 \t403.137\t149\t723\t137\t1784  \t72.1886\n",
            "150\t1816  \t22.5165\t150\t32 \t22 \t1816  \t1.27974 \t405.533\t150\t717\t101\t1816  \t74.1533\n",
            "151\t1789  \t22.536 \t151\t31 \t22 \t1789  \t1.26321 \t406.67 \t151\t721\t103\t1789  \t75.4361\n",
            "152\t1809  \t22.5545\t152\t32 \t22 \t1809  \t1.28298 \t404.847\t152\t733\t87 \t1809  \t76.7006\n",
            "153\t1787  \t22.5315\t153\t32 \t22 \t1787  \t1.27515 \t405.207\t153\t733\t105\t1787  \t79.4386\n",
            "154\t1807  \t22.5575\t154\t32 \t22 \t1807  \t1.33817 \t412.074\t154\t733\t75 \t1807  \t80.0268\n",
            "155\t1829  \t22.5235\t155\t33 \t22 \t1829  \t1.33658 \t412.637\t155\t733\t127\t1829  \t82.9146\n",
            "156\t1820  \t22.569 \t156\t32 \t22 \t1820  \t1.29392 \t408.448\t156\t735\t129\t1820  \t86.6894\n",
            "157\t1774  \t22.5125\t157\t32 \t22 \t1774  \t1.24372 \t409.014\t157\t737\t85 \t1774  \t86.4021\n",
            "158\t1826  \t22.523 \t158\t31 \t22 \t1826  \t1.24317 \t410.542\t158\t775\t97 \t1826  \t88.1253\n",
            "159\t1779  \t22.556 \t159\t32 \t22 \t1779  \t1.31942 \t410.564\t159\t743\t93 \t1779  \t88.7895\n",
            "160\t1805  \t22.5255\t160\t32 \t22 \t1805  \t1.21217 \t411.518\t160\t743\t103\t1805  \t90.2551\n",
            "161\t1798  \t22.5165\t161\t33 \t22 \t1798  \t1.28908 \t415.718\t161\t741\t93 \t1798  \t92.9255\n",
            "162\t1800  \t22.545 \t162\t34 \t22 \t1800  \t1.29768 \t415.482\t162\t763\t83 \t1800  \t92.5521\n",
            "163\t1805  \t22.5335\t163\t33 \t22 \t1805  \t1.26763 \t415.515\t163\t749\t1  \t1805  \t91.86  \n",
            "164\t1780  \t22.553 \t164\t32 \t22 \t1780  \t1.41074 \t418.779\t164\t751\t111\t1780  \t91.2755\n",
            "165\t1789  \t22.4535\t165\t32 \t22 \t1789  \t1.1644  \t424.263\t165\t767\t105\t1789  \t92.7801\n",
            "166\t1818  \t22.5325\t166\t32 \t22 \t1818  \t1.30765 \t423.816\t166\t749\t1  \t1818  \t94.7905\n",
            "167\t1803  \t22.4875\t167\t33 \t22 \t1803  \t1.22835 \t427.45 \t167\t749\t131\t1803  \t95.5001\n",
            "168\t1833  \t22.5395\t168\t32 \t22 \t1833  \t1.32493 \t427.199\t168\t751\t137\t1833  \t92.5549\n",
            "169\t1800  \t22.5345\t169\t33 \t22 \t1800  \t1.31218 \t426.863\t169\t739\t101\t1800  \t93.8406\n",
            "170\t1790  \t22.5235\t170\t32 \t22 \t1790  \t1.22615 \t430.186\t170\t739\t127\t1790  \t93.1632\n",
            "171\t1805  \t22.5095\t171\t32 \t22 \t1805  \t1.25096 \t430.241\t171\t741\t99 \t1805  \t91.6205\n",
            "172\t1806  \t22.526 \t172\t33 \t22 \t1806  \t1.3466  \t429.623\t172\t743\t83 \t1806  \t94.6209\n",
            "173\t1835  \t22.462 \t173\t32 \t22 \t1835  \t1.1948  \t429.756\t173\t755\t85 \t1835  \t91.0022\n",
            "174\t1821  \t22.4515\t174\t32 \t22 \t1821  \t1.18138 \t431.477\t174\t747\t121\t1821  \t92.0644\n",
            "175\t1804  \t22.4845\t175\t33 \t22 \t1804  \t1.27113 \t434.463\t175\t755\t121\t1804  \t96.6435\n",
            "176\t1801  \t22.509 \t176\t32 \t22 \t1801  \t1.26527 \t435.472\t176\t749\t107\t1801  \t98.9107\n",
            "177\t1798  \t22.5385\t177\t33 \t22 \t1798  \t1.34778 \t441.462\t177\t749\t83 \t1798  \t100.304\n",
            "178\t1803  \t22.537 \t178\t32 \t22 \t1803  \t1.28943 \t446.587\t178\t883\t135\t1803  \t101.238\n",
            "179\t1818  \t22.464 \t179\t32 \t22 \t1818  \t1.16048 \t449.972\t179\t763\t157\t1818  \t101.759\n",
            "180\t1816  \t22.449 \t180\t33 \t22 \t1816  \t1.15819 \t447.96 \t180\t769\t93 \t1816  \t101.576\n",
            "181\t1835  \t22.4685\t181\t32 \t22 \t1835  \t1.20748 \t447.621\t181\t765\t153\t1835  \t102.523\n",
            "182\t1819  \t22.4865\t182\t32 \t22 \t1819  \t1.26128 \t446.815\t182\t773\t115\t1819  \t107.619\n",
            "183\t1777  \t22.473 \t183\t32 \t22 \t1777  \t1.22404 \t451.845\t183\t771\t97 \t1777  \t109.337\n",
            "184\t1811  \t22.4595\t184\t32 \t22 \t1811  \t1.14646 \t456.67 \t184\t775\t177\t1811  \t108.379\n",
            "185\t1749  \t22.462 \t185\t33 \t22 \t1749  \t1.23189 \t455.538\t185\t763\t103\t1749  \t111.17 \n",
            "186\t1827  \t22.5065\t186\t32 \t22 \t1827  \t1.27513 \t456.367\t186\t773\t75 \t1827  \t112.558\n",
            "187\t1786  \t22.4465\t187\t32 \t22 \t1786  \t1.14418 \t461.483\t187\t757\t159\t1786  \t116.342\n",
            "188\t1765  \t22.4415\t188\t32 \t22 \t1765  \t1.21597 \t467.733\t188\t757\t111\t1765  \t121.334\n",
            "189\t1793  \t22.4625\t189\t33 \t22 \t1793  \t1.25323 \t468.306\t189\t757\t113\t1793  \t122.546\n",
            "190\t1795  \t22.4675\t190\t32 \t22 \t1795  \t1.22145 \t474.98 \t190\t761\t93 \t1795  \t127.941\n",
            "191\t1768  \t22.429 \t191\t32 \t22 \t1768  \t1.13576 \t481.489\t191\t763\t73 \t1768  \t126.241\n",
            "192\t1824  \t22.5   \t192\t33 \t22 \t1824  \t1.27828 \t479.579\t192\t769\t115\t1824  \t123.192\n",
            "193\t1808  \t22.45  \t193\t32 \t22 \t1808  \t1.19269 \t481.629\t193\t765\t189\t1808  \t122.044\n",
            "194\t1771  \t22.457 \t194\t32 \t22 \t1771  \t1.20713 \t484.16 \t194\t781\t195\t1771  \t122.161\n",
            "195\t1794  \t22.45  \t195\t32 \t22 \t1794  \t1.1578  \t490.019\t195\t787\t73 \t1794  \t126.236\n",
            "196\t1786  \t22.425 \t196\t31 \t22 \t1786  \t1.14253 \t489.991\t196\t763\t147\t1786  \t122.997\n",
            "197\t1783  \t22.442 \t197\t33 \t22 \t1783  \t1.24965 \t487.075\t197\t781\t75 \t1783  \t121.12 \n",
            "198\t1790  \t22.4585\t198\t31 \t22 \t1790  \t1.16759 \t488.062\t198\t817\t75 \t1790  \t122.687\n",
            "199\t1791  \t22.463 \t199\t32 \t22 \t1791  \t1.19776 \t490.148\t199\t819\t145\t1791  \t123.874\n",
            "200\t1813  \t22.4075\t200\t31 \t22 \t1813  \t1.02686 \t495.444\t200\t821\t71 \t1813  \t125.462\n"
          ]
        }
      ]
    },
    {
      "cell_type": "markdown",
      "metadata": {
        "id": "HRYyqCWFk9Z2"
      },
      "source": [
        "Extract our statistcs. This time our logbook has *chapters* because we have maintained multiple statistics."
      ]
    },
    {
      "cell_type": "code",
      "metadata": {
        "id": "JV8qS4tZk9Z2",
        "colab": {
          "base_uri": "https://localhost:8080/",
          "height": 365
        },
        "outputId": "8de8d0ca-116c-41d0-beaa-04fd8bdaa303"
      },
      "source": [
        "maxFitnessValues, meanFitnessValues = logbook.chapters['fitness'].select(\"min\", \"avg\")\n",
        "\n",
        "\n",
        "# print info for best solution found:\n",
        "best = hof.items[0]\n",
        "print(\"-- Best Individual = \", best)\n",
        "print(\"-- length={}, height={}\".format(len(best), best.height))\n",
        "print(\"-- Best Fitness = \", best.fitness.values[0])\n",
        "\n",
        "plt.plot(maxFitnessValues, color='red')\n",
        "plt.plot(meanFitnessValues, color='green')\n",
        "plt.xlabel('Generation')\n",
        "plt.ylabel('Max / Average Fitness')\n",
        "plt.title('Max and Average Fitness over Generations')\n",
        "plt.show()"
      ],
      "execution_count": 57,
      "outputs": [
        {
          "output_type": "stream",
          "name": "stdout",
          "text": [
            "-- Best Individual =  and_(or_(or_(and_(in_4, and_(in_4, in_0)), and_(in_3, or_(and_(in_5, or_(and_(in_1, in_0), and_(in_1, or_(and_(in_4, in_1), or_(and_(in_0, in_2), or_(in_5, in_1)))))), in_0))), or_(and_(and_(and_(or_(in_5, in_2), or_(in_1, or_(in_5, in_1))), or_(in_4, or_(in_3, in_0))), or_(in_1, or_(and_(in_1, in_0), and_(in_2, in_2)))), and_(or_(in_2, in_4), or_(and_(and_(or_(in_3, or_(in_3, in_1)), or_(or_(in_5, in_3), and_(in_4, in_0))), or_(or_(in_3, or_(or_(in_5, in_1), and_(in_4, in_4))), in_1)), in_3)))), or_(and_(or_(and_(and_(or_(and_(in_2, or_(or_(or_(and_(and_(in_2, in_0), in_4), and_(and_(in_4, in_0), in_2)), and_(in_3, in_3)), or_(or_(in_4, in_4), and_(in_4, in_4)))), or_(in_1, or_(in_1, in_2))), or_(and_(in_4, in_2), or_(or_(and_(in_2, or_(and_(or_(or_(and_(and_(in_2, in_0), in_2), or_(and_(in_3, in_1), or_(in_0, and_(in_3, in_0)))), and_(or_(in_2, in_5), in_1)), in_1), and_(or_(in_1, in_4), or_(in_4, or_(in_0, and_(in_2, in_4)))))), or_(or_(in_0, in_3), in_2)), in_3))), in_4), or_(in_5, in_1)), or_(or_(or_(or_(in_5, and_(in_2, and_(or_(or_(or_(and_(in_3, in_4), and_(or_(in_5, in_1), in_4)), or_(or_(in_2, in_3), in_3)), in_5), in_4))), or_(in_5, in_3)), in_3), and_(in_3, in_2))), and_(or_(or_(in_2, in_2), or_(in_1, in_0)), or_(and_(in_0, and_(or_(or_(or_(in_5, or_(in_4, in_4)), or_(in_0, and_(in_0, in_1))), in_5), or_(and_(in_3, in_4), and_(or_(in_1, and_(in_5, in_1)), in_1)))), and_(or_(in_2, in_2), or_(in_5, in_0))))))\n",
            "-- length=253, height=17\n",
            "-- Best Fitness =  22.0\n"
          ]
        },
        {
          "output_type": "display_data",
          "data": {
            "image/png": "[encoded data removed]",
            "text/plain": [
              "<Figure size 432x288 with 1 Axes>"
            ]
          },
          "metadata": {
            "needs_background": "light"
          }
        }
      ]
    },
    {
      "cell_type": "markdown",
      "metadata": {
        "id": "Hq9jpBCbk9Z3"
      },
      "source": [
        "Now, this looks way more interesting than the Symbolic Regression graph as GP is really being made to work hard here!"
      ]
    },
    {
      "cell_type": "code",
      "metadata": {
        "id": "JPs8vnQgk9Z3"
      },
      "source": [
        ""
      ],
      "execution_count": 57,
      "outputs": []
    }
  ]
}