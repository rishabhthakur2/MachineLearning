{
  "nbformat": 4,
  "nbformat_minor": 0,
  "metadata": {
    "kernelspec": {
      "display_name": "Python 3",
      "language": "python",
      "name": "python3"
    },
    "language_info": {
      "codemirror_mode": {
        "name": "ipython",
        "version": 3
      },
      "file_extension": ".py",
      "mimetype": "text/x-python",
      "name": "python",
      "nbconvert_exporter": "python",
      "pygments_lexer": "ipython3",
      "version": "3.8.3"
    },
    "colab": {
      "name": "Copy of DEAP Algorithms (GP Parity).ipynb",
      "provenance": []
    }
  },
  "cells": [
    {
      "cell_type": "markdown",
      "metadata": {
        "id": "5l0UGNAeqJ57"
      },
      "source": [
        "#Week 06\n",
        "\n",
        "Rishabh Thakur\n",
        "\n",
        "21020183"
      ]
    },
    {
      "cell_type": "markdown",
      "metadata": {
        "id": "o4fmRIFjqJ58"
      },
      "source": [
        "Install DEAP. "
      ]
    },
    {
      "cell_type": "code",
      "metadata": {
        "id": "fkEgIHScqJ59",
        "colab": {
          "base_uri": "https://localhost:8080/"
        },
        "outputId": "980a6f37-ccd5-4f29-c42d-2ad17decfadb"
      },
      "source": [
        "!pip install deap"
      ],
      "execution_count": 29,
      "outputs": [
        {
          "output_type": "stream",
          "name": "stdout",
          "text": [
            "Requirement already satisfied: deap in /usr/local/lib/python3.7/dist-packages (1.3.1)\n",
            "Requirement already satisfied: numpy in /usr/local/lib/python3.7/dist-packages (from deap) (1.19.5)\n"
          ]
        }
      ]
    },
    {
      "cell_type": "code",
      "metadata": {
        "id": "hGu9LISTqJ5_",
        "colab": {
          "base_uri": "https://localhost:8080/",
          "height": 17
        },
        "outputId": "4d4df43c-6dc1-4538-fecb-63e5d949ffd6"
      },
      "source": [
        "from IPython.core.display import display, HTML\n",
        "display(HTML(\"<style>.container { width:100% !important; }</style>\"))"
      ],
      "execution_count": 30,
      "outputs": [
        {
          "output_type": "display_data",
          "data": {
            "text/html": [
              "<style>.container { width:100% !important; }</style>"
            ],
            "text/plain": [
              "<IPython.core.display.HTML object>"
            ]
          },
          "metadata": {}
        }
      ]
    },
    {
      "cell_type": "markdown",
      "metadata": {
        "id": "PNEPndsGqJ6C"
      },
      "source": [
        "Import our tools as before, except this time we also include **itertools** and **networks** which contain some nice iterative tools (for creating our test set) and graph drawing functionality, respectively."
      ]
    },
    {
      "cell_type": "code",
      "metadata": {
        "id": "mPOSU6ooqJ6C"
      },
      "source": [
        "import operator\n",
        "import math\n",
        "import random\n",
        "\n",
        "import numpy\n",
        "\n",
        "from deap import algorithms\n",
        "from deap import base\n",
        "from deap import creator\n",
        "from deap import tools\n",
        "from deap import gp\n",
        "\n",
        "\n",
        "import matplotlib.pyplot as plt\n",
        "\n",
        "import itertools\n",
        "import networkx as nx\n",
        "\n"
      ],
      "execution_count": 31,
      "outputs": []
    },
    {
      "cell_type": "markdown",
      "metadata": {
        "id": "DMkAYRsKqJ6D"
      },
      "source": [
        "Set our Genetic Programming parameters.  Notice that these are virtually the same as the GA ones."
      ]
    },
    {
      "cell_type": "code",
      "metadata": {
        "id": "io4c6PmgqJ6E"
      },
      "source": [
        "# Genetic Programming constants:\n",
        "POPULATION_SIZE = 1000\n",
        "P_CROSSOVER = 0.7\n",
        "P_MUTATION = 0.05\n",
        "MAX_GENERATIONS = 50\n",
        "HALL_OF_FAME_SIZE = 10\n"
      ],
      "execution_count": 54,
      "outputs": []
    },
    {
      "cell_type": "markdown",
      "metadata": {
        "id": "U4caDZKrqJ6F"
      },
      "source": [
        "Set the random seed. "
      ]
    },
    {
      "cell_type": "code",
      "metadata": {
        "id": "Ql6SvFa4qJ6G"
      },
      "source": [
        "RANDOM_SEED = 412\n",
        "random.seed(RANDOM_SEED)"
      ],
      "execution_count": 55,
      "outputs": []
    },
    {
      "cell_type": "markdown",
      "metadata": {
        "id": "mJ0eq0TWqJ6H"
      },
      "source": [
        "Here are some GP-specific constants. Keeping them together like this will make later editing easier."
      ]
    },
    {
      "cell_type": "code",
      "metadata": {
        "id": "Kvmu6JS9qJ6H"
      },
      "source": [
        "MIN_TREE_HEIGHT = 3\n",
        "MAX_TREE_HEIGHT = 5\n",
        "LIMIT_TREE_HEIGHT = 17\n",
        "MUT_MIN_TREE_HEIGHT = 0\n",
        "MUT_MAX_TREE_HEIGHT = 2"
      ],
      "execution_count": 56,
      "outputs": []
    },
    {
      "cell_type": "markdown",
      "metadata": {
        "id": "LAV5OdWsqJ6I"
      },
      "source": [
        "Some problem constants. One nice thing about this problem is that it is of scalable difficulty, so we name make it more difficult simply by increasing the number of inputs."
      ]
    },
    {
      "cell_type": "code",
      "metadata": {
        "id": "djFl8Oe5qJ6J"
      },
      "source": [
        "NUM_INPUTS = 4\n",
        "NUM_COMBINATIONS = 2 ** NUM_INPUTS"
      ],
      "execution_count": 57,
      "outputs": []
    },
    {
      "cell_type": "markdown",
      "metadata": {
        "id": "aWGIB66JqJ6J"
      },
      "source": [
        "Here's our fitness function. This is a bit more involved than before as we first create all our test cases and then write a function to calculate the party error. We declare a wrapper function, **getCost** to make this code more resuable. This way we can change the fitness function and we only need to change the name in **getCost**."
      ]
    },
    {
      "cell_type": "code",
      "metadata": {
        "id": "aBS5WxhoqJ6L"
      },
      "source": [
        "# calculate the truth table of even parity check:\n",
        "parityIn = list(itertools.product([0, 1], repeat=NUM_INPUTS))\n",
        "parityOut = []\n",
        "for row in parityIn:\n",
        "    parityOut.append(sum(row) % 2)\n",
        "    \n",
        "# calculate the difference between the results of the\n",
        "# generated function and the expected parity results:\n",
        "def parityError(individual):\n",
        "    func = toolbox.compile(expr=individual)\n",
        "    return sum(func(*pIn) != pOut for pIn, pOut in zip(parityIn, parityOut))\n",
        "\n",
        "# fitness measure:\n",
        "def getCost(individual):\n",
        "    return parityError(individual), # return a tuple"
      ],
      "execution_count": 58,
      "outputs": []
    },
    {
      "cell_type": "markdown",
      "metadata": {
        "id": "xC36EH0pqJ6M"
      },
      "source": [
        "Add our functions and terminals. This time we are using Boolean operators and values."
      ]
    },
    {
      "cell_type": "code",
      "metadata": {
        "id": "TntqtihyqJ6N"
      },
      "source": [
        "# create the primitive set:\n",
        "primitiveSet = gp.PrimitiveSet(\"main\", NUM_INPUTS, \"in_\")\n",
        "primitiveSet.addPrimitive(operator.and_, 2)\n",
        "primitiveSet.addPrimitive(operator.or_, 2)\n",
        "#primitiveSet.addPrimitive(operator.xor, 2)\n",
        "primitiveSet.addPrimitive(operator.not_, 1)\n",
        "\n",
        "# add terminal values:\n",
        "primitiveSet.addTerminal(1)\n",
        "primitiveSet.addTerminal(0)"
      ],
      "execution_count": 59,
      "outputs": []
    },
    {
      "cell_type": "markdown",
      "metadata": {
        "id": "h9eOwU3WqJ6O"
      },
      "source": [
        "Create our toolbox. This is very similar to the Symbolic Regression notebook except we are using the parameters declared up above."
      ]
    },
    {
      "cell_type": "code",
      "metadata": {
        "id": "h0BFFxzeqJ6P",
        "colab": {
          "base_uri": "https://localhost:8080/"
        },
        "outputId": "2b2baa3d-07af-4d00-f094-909f2f8b4fc5"
      },
      "source": [
        "toolbox = base.Toolbox()\n",
        "\n",
        "# define a single objective, minimizing fitness strategy:\n",
        "creator.create(\"FitnessMin\", base.Fitness, weights=(-1.0,))\n",
        "\n",
        "# create the Individual class based on the primitive tree:\n",
        "creator.create(\"Individual\", gp.PrimitiveTree, fitness=creator.FitnessMin)\n",
        "\n",
        "# create a helper function for creating random trees using the primitive set:\n",
        "toolbox.register(\"expr\", gp.genFull, pset=primitiveSet, min_=MIN_TREE_HEIGHT, max_=MAX_TREE_HEIGHT)\n",
        "\n",
        "# create the individual operator to fill up an Individual instance:\n",
        "toolbox.register(\"individualCreator\", tools.initIterate, creator.Individual, toolbox.expr)\n",
        "\n",
        "# create the population operator to generate a list of individuals:\n",
        "toolbox.register(\"populationCreator\", tools.initRepeat, list, toolbox.individualCreator)\n",
        "\n",
        "# create an operator to compile the primitive tree into python code:\n",
        "toolbox.register(\"compile\", gp.compile, pset=primitiveSet)\n",
        "\n",
        "toolbox.register(\"evaluate\", getCost)\n",
        "\n",
        "# genetic operators:\n",
        "toolbox.register(\"select\", tools.selTournament, tournsize=2)\n",
        "toolbox.register(\"mate\", gp.cxOnePoint)\n",
        "toolbox.register(\"expr_mut\", gp.genGrow, min_=MUT_MIN_TREE_HEIGHT, max_=MUT_MAX_TREE_HEIGHT)\n",
        "toolbox.register(\"mutate\", gp.mutUniform, expr=toolbox.expr_mut, pset=primitiveSet)\n",
        "\n",
        "# bloat control:\n",
        "toolbox.decorate(\"mate\", gp.staticLimit(key=operator.attrgetter(\"height\"), max_value=LIMIT_TREE_HEIGHT))\n",
        "toolbox.decorate(\"mutate\", gp.staticLimit(key=operator.attrgetter(\"height\"), max_value=LIMIT_TREE_HEIGHT))\n",
        "\n"
      ],
      "execution_count": 60,
      "outputs": [
        {
          "output_type": "stream",
          "name": "stderr",
          "text": [
            "/usr/local/lib/python3.7/dist-packages/deap/creator.py:141: RuntimeWarning: A class named 'FitnessMin' has already been created and it will be overwritten. Consider deleting previous creation of that class or rename it.\n",
            "  RuntimeWarning)\n",
            "/usr/local/lib/python3.7/dist-packages/deap/creator.py:141: RuntimeWarning: A class named 'Individual' has already been created and it will be overwritten. Consider deleting previous creation of that class or rename it.\n",
            "  RuntimeWarning)\n"
          ]
        }
      ]
    },
    {
      "cell_type": "markdown",
      "metadata": {
        "id": "PN8DkOLcqJ6Q"
      },
      "source": [
        "Set up our population as before"
      ]
    },
    {
      "cell_type": "code",
      "metadata": {
        "id": "shCtzI-LqJ6Q"
      },
      "source": [
        "population = toolbox.populationCreator(n=POPULATION_SIZE)\n",
        "# define the hall-of-fame object:\n",
        "hof = tools.HallOfFame(HALL_OF_FAME_SIZE)   \n"
      ],
      "execution_count": 61,
      "outputs": []
    },
    {
      "cell_type": "markdown",
      "metadata": {
        "id": "R3snMdW7qJ6R"
      },
      "source": [
        "Create a statistics object. This time we're going to use the **MultiStatistics** tool because we want to record statistics about **size** as well as **fitness**."
      ]
    },
    {
      "cell_type": "code",
      "metadata": {
        "id": "D7BycVHOqJ6R"
      },
      "source": [
        "stats_fit = tools.Statistics(lambda ind: ind.fitness.values)\n",
        "stats_size = tools.Statistics(len)\n",
        "mstats = tools.MultiStatistics(fitness=stats_fit, size=stats_size)\n",
        "mstats.register(\"avg\", numpy.mean)\n",
        "mstats.register(\"std\", numpy.std)\n",
        "mstats.register(\"min\", numpy.min)\n",
        "mstats.register(\"max\", numpy.max)\n"
      ],
      "execution_count": 62,
      "outputs": []
    },
    {
      "cell_type": "markdown",
      "metadata": {
        "id": "DsltaKc-qJ6S"
      },
      "source": [
        "Run our GP. Notice how much slower this one is, due to the much larger population size. "
      ]
    },
    {
      "cell_type": "code",
      "metadata": {
        "id": "NCTOaPxvqJ6S",
        "colab": {
          "base_uri": "https://localhost:8080/"
        },
        "outputId": "3bd8aebf-a3b9-42e7-e2c8-0b95710a2cbb"
      },
      "source": [
        "population, logbook = algorithms.eaSimple(population,\n",
        "                                                  toolbox,\n",
        "                                                  cxpb=P_CROSSOVER,\n",
        "                                                  mutpb=P_MUTATION,\n",
        "                                                  ngen=MAX_GENERATIONS,\n",
        "                                                  stats=mstats,\n",
        "                                                  halloffame=hof,\n",
        "                                                  verbose=True)"
      ],
      "execution_count": 63,
      "outputs": [
        {
          "output_type": "stream",
          "name": "stdout",
          "text": [
            "   \t      \t                    fitness                     \t                     size                    \n",
            "   \t      \t------------------------------------------------\t---------------------------------------------\n",
            "gen\tnevals\tavg  \tgen\tmax\tmin\tnevals\tstd     \tavg  \tgen\tmax\tmin\tnevals\tstd  \n",
            "0  \t1000  \t8.008\t0  \t9  \t7  \t1000  \t0.252856\t19.79\t0  \t56 \t4  \t1000  \t11.28\n",
            "1  \t738   \t7.962\t1  \t9  \t7  \t738   \t0.246081\t19.751\t1  \t79 \t1  \t738   \t12.062\n",
            "2  \t719   \t7.933\t2  \t9  \t6  \t719   \t0.294128\t19.854\t2  \t67 \t1  \t719   \t12.4925\n",
            "3  \t688   \t7.901\t3  \t9  \t6  \t688   \t0.327413\t19.742\t3  \t72 \t1  \t688   \t13.3234\n",
            "4  \t689   \t7.889\t4  \t9  \t6  \t689   \t0.358719\t20.699\t4  \t78 \t1  \t689   \t14.0851\n",
            "5  \t695   \t7.844\t5  \t9  \t7  \t695   \t0.389441\t22.245\t5  \t75 \t1  \t695   \t14.6563\n",
            "6  \t715   \t7.789\t6  \t9  \t6  \t715   \t0.436439\t23.693\t6  \t101\t1  \t715   \t15.6889\n",
            "7  \t700   \t7.719\t7  \t9  \t6  \t700   \t0.481704\t26.089\t7  \t101\t1  \t700   \t16.6103\n",
            "8  \t743   \t7.65 \t8  \t10 \t6  \t743   \t0.539907\t29.08 \t8  \t104\t1  \t743   \t16.954 \n",
            "9  \t712   \t7.573\t9  \t9  \t6  \t712   \t0.569799\t32.799\t9  \t113\t1  \t712   \t17.8238\n",
            "10 \t707   \t7.489\t10 \t9  \t6  \t707   \t0.576089\t35.412\t10 \t113\t1  \t707   \t18.6473\n",
            "11 \t728   \t7.399\t11 \t9  \t6  \t728   \t0.596489\t39.312\t11 \t107\t1  \t728   \t18.4935\n",
            "12 \t703   \t7.34 \t12 \t9  \t6  \t703   \t0.615142\t42.495\t12 \t119\t1  \t703   \t19.5419\n",
            "13 \t724   \t7.306\t13 \t10 \t5  \t724   \t0.616737\t44.492\t13 \t121\t1  \t724   \t19.6704\n",
            "14 \t752   \t7.271\t14 \t9  \t5  \t752   \t0.624147\t46.4  \t14 \t109\t1  \t752   \t19.6389\n",
            "15 \t723   \t7.201\t15 \t9  \t5  \t723   \t0.650076\t48.522\t15 \t134\t1  \t723   \t20.523 \n",
            "16 \t719   \t7.097\t16 \t9  \t5  \t719   \t0.683806\t50.936\t16 \t120\t1  \t719   \t21.1777\n",
            "17 \t696   \t7.029\t17 \t10 \t6  \t696   \t0.711449\t53.414\t17 \t126\t1  \t696   \t21.1303\n",
            "18 \t714   \t6.924\t18 \t9  \t5  \t714   \t0.72679 \t55.713\t18 \t136\t1  \t714   \t21.6626\n",
            "19 \t708   \t6.783\t19 \t9  \t5  \t708   \t0.729322\t57.661\t19 \t136\t1  \t708   \t21.7177\n",
            "20 \t709   \t6.698\t20 \t9  \t5  \t709   \t0.769932\t59.5  \t20 \t146\t5  \t709   \t21.7038\n",
            "21 \t703   \t6.635\t21 \t10 \t5  \t703   \t0.733331\t60.373\t21 \t153\t11 \t703   \t21.8733\n",
            "22 \t718   \t6.571\t22 \t10 \t5  \t718   \t0.764826\t62.912\t22 \t155\t1  \t718   \t23.1626\n",
            "23 \t726   \t6.534\t23 \t9  \t5  \t726   \t0.756865\t64.071\t23 \t156\t1  \t726   \t23.8474\n",
            "24 \t682   \t6.481\t24 \t9  \t5  \t682   \t0.77048 \t65.743\t24 \t160\t1  \t682   \t24.2221\n",
            "25 \t712   \t6.436\t25 \t9  \t5  \t712   \t0.764136\t68.795\t25 \t155\t6  \t712   \t25.1287\n",
            "26 \t724   \t6.406\t26 \t9  \t4  \t724   \t0.803221\t71.01 \t26 \t166\t1  \t724   \t24.6551\n",
            "27 \t739   \t6.35 \t27 \t9  \t4  \t739   \t0.826741\t72.015\t27 \t146\t1  \t739   \t25.1456\n",
            "28 \t723   \t6.299\t28 \t10 \t4  \t723   \t0.819511\t73.839\t28 \t164\t14 \t723   \t24.5867\n",
            "29 \t735   \t6.196\t29 \t9  \t4  \t735   \t0.820722\t75.414\t29 \t164\t1  \t735   \t24.8703\n",
            "30 \t719   \t6.117\t30 \t9  \t4  \t719   \t0.841018\t79.271\t30 \t186\t1  \t719   \t25.7836\n",
            "31 \t716   \t6.092\t31 \t10 \t4  \t716   \t0.886305\t83.879\t31 \t195\t10 \t716   \t26.3921\n",
            "32 \t710   \t5.973\t32 \t9  \t4  \t710   \t0.911192\t86.542\t32 \t195\t1  \t710   \t27.3299\n",
            "33 \t754   \t5.82 \t33 \t9  \t4  \t754   \t0.862322\t89.623\t33 \t171\t2  \t754   \t27.4879\n",
            "34 \t730   \t5.73 \t34 \t9  \t4  \t730   \t0.8747  \t92.391\t34 \t196\t2  \t730   \t26.7768\n",
            "35 \t743   \t5.64 \t35 \t8  \t4  \t743   \t0.883403\t92.524\t35 \t192\t3  \t743   \t27.2264\n",
            "36 \t702   \t5.562\t36 \t10 \t4  \t702   \t0.903414\t94.333\t36 \t191\t3  \t702   \t27.1614\n",
            "37 \t761   \t5.552\t37 \t9  \t4  \t761   \t0.931287\t95.581\t37 \t202\t1  \t761   \t28.2414\n",
            "38 \t736   \t5.479\t38 \t9  \t4  \t736   \t0.944224\t98.898\t38 \t202\t1  \t736   \t28.4372\n",
            "39 \t731   \t5.405\t39 \t9  \t4  \t731   \t0.939667\t99.18 \t39 \t201\t2  \t731   \t27.7828\n",
            "40 \t722   \t5.333\t40 \t10 \t3  \t722   \t0.918755\t100.478\t40 \t201\t4  \t722   \t27.2883\n",
            "41 \t716   \t5.268\t41 \t10 \t3  \t716   \t0.957171\t103.038\t41 \t216\t12 \t716   \t28.5428\n",
            "42 \t711   \t5.236\t42 \t9  \t3  \t711   \t0.947789\t103.372\t42 \t216\t29 \t711   \t29.3202\n",
            "43 \t733   \t5.113\t43 \t9  \t4  \t733   \t0.902347\t103.553\t43 \t202\t23 \t733   \t29.6773\n",
            "44 \t702   \t5.06 \t44 \t10 \t3  \t702   \t0.973858\t103.375\t44 \t191\t4  \t702   \t29.6521\n",
            "45 \t682   \t4.968\t45 \t9  \t3  \t682   \t0.996482\t105.123\t45 \t204\t1  \t682   \t29.5897\n",
            "46 \t707   \t4.892\t46 \t9  \t3  \t707   \t0.982006\t108.015\t46 \t206\t1  \t707   \t28.4436\n",
            "47 \t721   \t4.794\t47 \t10 \t3  \t721   \t0.976506\t109.376\t47 \t203\t1  \t721   \t28.9607\n",
            "48 \t734   \t4.776\t48 \t9  \t3  \t734   \t1.03818 \t113.225\t48 \t204\t32 \t734   \t29.5823\n",
            "49 \t710   \t4.673\t49 \t9  \t3  \t710   \t0.975741\t116.159\t49 \t206\t36 \t710   \t29.2946\n",
            "50 \t723   \t4.608\t50 \t9  \t3  \t723   \t0.972798\t118.737\t50 \t237\t22 \t723   \t31.4505\n"
          ]
        }
      ]
    },
    {
      "cell_type": "markdown",
      "metadata": {
        "id": "O0nLDxV5qJ6T"
      },
      "source": [
        "Extract our statistcs. This time our logbook has *chapters* because we have maintained multiple statistics."
      ]
    },
    {
      "cell_type": "code",
      "metadata": {
        "id": "E7ZAERipqJ6T",
        "colab": {
          "base_uri": "https://localhost:8080/",
          "height": 366
        },
        "outputId": "a25628d4-07d4-4f89-f1b0-4997746647a3"
      },
      "source": [
        "maxFitnessValues, meanFitnessValues = logbook.chapters['fitness'].select(\"min\", \"avg\")\n",
        "\n",
        "\n",
        "# print info for best solution found:\n",
        "best = hof.items[0]\n",
        "print(\"-- Best Individual = \", best)\n",
        "print(\"-- length={}, height={}\".format(len(best), best.height))\n",
        "print(\"-- Best Fitness = \", best.fitness.values[0])\n",
        "\n",
        "plt.plot(maxFitnessValues, color='red')\n",
        "plt.plot(meanFitnessValues, color='green')\n",
        "plt.xlabel('Generation')\n",
        "plt.ylabel('Max / Average Fitness')\n",
        "plt.title('Max and Average Fitness over Generations')\n",
        "plt.show()"
      ],
      "execution_count": 64,
      "outputs": [
        {
          "output_type": "stream",
          "name": "stdout",
          "text": [
            "-- Best Individual =  or_(or_(or_(and_(or_(or_(and_(not_(in_0), not_(in_2)), and_(not_(and_(and_(in_3, or_(and_(in_1, not_(and_(0, 0))), or_(1, in_1))), in_2)), and_(and_(in_1, in_0), in_3))), and_(in_3, or_(not_(in_0), and_(not_(and_(and_(or_(0, or_(in_2, in_2)), not_(in_3)), in_0)), 0)))), not_(in_0)), and_(not_(in_2), and_(in_1, in_3))), and_(and_(in_3, not_(and_(in_3, 0))), and_(not_(and_(and_(or_(and_(or_(in_2, or_(in_1, in_0)), in_0), not_(in_3)), or_(and_(not_(and_(not_(and_(in_3, in_2)), and_(1, and_(in_1, in_0)))), not_(in_0)), and_(and_(in_2, in_1), and_(in_1, 1)))), in_1)), in_2))), or_(not_(or_(not_(not_(in_1)), or_(and_(in_1, in_3), or_(or_(or_(or_(in_1, in_1), in_3), 0), and_(or_(and_(or_(in_0, or_(and_(in_3, or_(in_3, 0)), in_1)), or_(and_(not_(not_(in_2)), or_(or_(in_0, in_3), and_(not_(and_(in_3, in_3)), and_(not_(0), or_(in_1, in_1))))), 0)), and_(not_(in_3), and_(not_(0), and_(in_1, not_(not_(and_(in_0, in_0))))))), not_(and_(or_(or_(0, or_(not_(and_(in_3, 0)), not_(in_0))), 1), not_(or_(in_2, or_(in_1, in_0)))))))))), and_(not_(and_(or_(or_(in_3, in_0), not_(in_0)), in_3)), and_(in_2, and_(in_1, in_0)))))\n",
            "-- length=201, height=15\n",
            "-- Best Fitness =  3.0\n"
          ]
        },
        {
          "output_type": "display_data",
          "data": {
            "image/png": "[encoded data removed]",
            "text/plain": [
              "<Figure size 432x288 with 1 Axes>"
            ]
          },
          "metadata": {
            "needs_background": "light"
          }
        }
      ]
    },
    {
      "cell_type": "markdown",
      "metadata": {
        "id": "KKLb_OIjqJ6U"
      },
      "source": [
        "Now, this looks way more interesting than the Symbolic Regression graph as GP is really being made to work hard here!"
      ]
    },
    {
      "cell_type": "code",
      "metadata": {
        "id": "Qd3LYX1vqJ6V"
      },
      "source": [
        ""
      ],
      "execution_count": 64,
      "outputs": []
    }
  ]
}