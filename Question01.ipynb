{
  "nbformat": 4,
  "nbformat_minor": 2,
  "metadata": {
    "kernelspec": {
      "display_name": "Python 3",
      "language": "python",
      "name": "python3"
    },
    "language_info": {
      "codemirror_mode": {
        "name": "ipython",
        "version": 3
      },
      "file_extension": ".py",
      "mimetype": "text/x-python",
      "name": "python",
      "nbconvert_exporter": "python",
      "pygments_lexer": "ipython3",
      "version": "3.8.3"
    },
    "colab": {
      "name": "Question01.ipynb",
      "provenance": [],
      "collapsed_sections": []
    }
  },
  "cells": [
    {
      "cell_type": "markdown",
      "source": [
        "   # GA applied to OneMax"
      ],
      "metadata": {
        "id": "TA2hc3OTzrWa"
      }
    },
    {
      "cell_type": "markdown",
      "source": [
        "Name: Rishabh Thakur\r\n",
        "\r\n",
        "Student Id:21020183\r\n"
      ],
      "metadata": {}
    },
    {
      "cell_type": "markdown",
      "source": [
        "##1. Using roulette wheel selection, what is the smallest population size and number of generations you can you find a perfect solution with an individual size of 50?  Give your answer in terms of individuals processed, that is, the population size multiplied by the number of generations required."
      ],
      "metadata": {
        "id": "hofHpIeo0PyD"
      }
    },
    {
      "cell_type": "markdown",
      "source": [
        "This notebook implements a simple GA in a fairly lowlevel way. In later examples we'll use more highlevel operators, but it is a very valuable exercise to ensure you understand what this code is actually doing. Make sure you understand the processes below before moving to the more high-level toolboxes!"
      ],
      "metadata": {
        "id": "sgd85bBTzrWg"
      }
    },
    {
      "cell_type": "markdown",
      "source": [
        "Install DEAP. Note that if you are running this on your own computer you might not need to do this. In fact, it is better practice to install it so that it is always available, but when running on Colab, we do need this."
      ],
      "metadata": {
        "id": "0WR8XhjBzrWh"
      }
    },
    {
      "cell_type": "code",
      "execution_count": 1,
      "source": [
        "!pip install deap"
      ],
      "outputs": [
        {
          "output_type": "stream",
          "name": "stdout",
          "text": [
            "Collecting deap\n",
            "  Downloading deap-1.3.1-cp37-cp37m-manylinux_2_5_x86_64.manylinux1_x86_64.manylinux_2_12_x86_64.manylinux2010_x86_64.whl (160 kB)\n",
            "\u001b[?25l\r\u001b[K     |██                              | 10 kB 24.8 MB/s eta 0:00:01\r\u001b[K     |████                            | 20 kB 28.6 MB/s eta 0:00:01\r\u001b[K     |██████                          | 30 kB 33.3 MB/s eta 0:00:01\r\u001b[K     |████████▏                       | 40 kB 30.2 MB/s eta 0:00:01\r\u001b[K     |██████████▏                     | 51 kB 32.0 MB/s eta 0:00:01\r\u001b[K     |████████████▏                   | 61 kB 34.1 MB/s eta 0:00:01\r\u001b[K     |██████████████▎                 | 71 kB 29.8 MB/s eta 0:00:01\r\u001b[K     |████████████████▎               | 81 kB 31.4 MB/s eta 0:00:01\r\u001b[K     |██████████████████▎             | 92 kB 33.0 MB/s eta 0:00:01\r\u001b[K     |████████████████████▍           | 102 kB 31.1 MB/s eta 0:00:01\r\u001b[K     |██████████████████████▍         | 112 kB 31.1 MB/s eta 0:00:01\r\u001b[K     |████████████████████████▍       | 122 kB 31.1 MB/s eta 0:00:01\r\u001b[K     |██████████████████████████▌     | 133 kB 31.1 MB/s eta 0:00:01\r\u001b[K     |████████████████████████████▌   | 143 kB 31.1 MB/s eta 0:00:01\r\u001b[K     |██████████████████████████████▌ | 153 kB 31.1 MB/s eta 0:00:01\r\u001b[K     |████████████████████████████████| 160 kB 31.1 MB/s \n",
            "\u001b[?25hRequirement already satisfied: numpy in /usr/local/lib/python3.7/dist-packages (from deap) (1.19.5)\n",
            "Installing collected packages: deap\n",
            "Successfully installed deap-1.3.1\n"
          ]
        }
      ],
      "metadata": {
        "id": "B9vC65s-zrWh",
        "colab": {
          "base_uri": "https://localhost:8080/"
        },
        "outputId": "165e2ded-4f3c-4b11-abd4-1c1c2d6a85be"
      }
    },
    {
      "cell_type": "markdown",
      "source": [
        "Import the DEAP tools and useful libraries (random and matplotlib)."
      ],
      "metadata": {
        "id": "29nnB7DhzrWj"
      }
    },
    {
      "cell_type": "code",
      "execution_count": 2,
      "source": [
        "from deap import base\r\n",
        "from deap import creator\r\n",
        "from deap import tools\r\n",
        "\r\n",
        "import random\r\n",
        "\r\n",
        "import matplotlib.pyplot as plt"
      ],
      "outputs": [],
      "metadata": {
        "id": "5PlL0u-3zrWj"
      }
    },
    {
      "cell_type": "markdown",
      "source": [
        "Set our Genetic Algorithm parameters"
      ],
      "metadata": {
        "id": "T1gZLiYrzrWj"
      }
    },
    {
      "cell_type": "code",
      "execution_count": 108,
      "source": [
        "# Genetic Algorithm constants:\n",
        "POPULATION_SIZE = 200\n",
        "P_CROSSOVER = 0.7  # probability for crossover\n",
        "P_MUTATION = 0.05   # probability for mutating an individual\n",
        "MAX_GENERATIONS = 200\n"
      ],
      "outputs": [],
      "metadata": {
        "id": "SyBGJmHmzrWk"
      }
    },
    {
      "cell_type": "markdown",
      "source": [
        "Set any problem-specific constants here. In this case we need to know how long the string is."
      ],
      "metadata": {
        "id": "e53PGfrNzrWk"
      }
    },
    {
      "cell_type": "code",
      "execution_count": 109,
      "source": [
        "ONE_MAX_LENGTH =   50 # length of bit string to be optimized"
      ],
      "outputs": [],
      "metadata": {
        "id": "fVQX6T-CzrWl"
      }
    },
    {
      "cell_type": "markdown",
      "source": [
        "Set the random seed. This is important so that we can reproduce runs later on."
      ],
      "metadata": {
        "id": "LyA3FxJuzrWl"
      }
    },
    {
      "cell_type": "code",
      "execution_count": 110,
      "source": [
        "RANDOM_SEED = 42\n",
        "random.seed(RANDOM_SEED)"
      ],
      "outputs": [],
      "metadata": {
        "id": "d9SMvGswzrWm"
      }
    },
    {
      "cell_type": "markdown",
      "source": [
        "Create our toolbox. Note that we can pull in a bunch of predefined operators to tailor our Evolutionary Algorithm, which, of course, in this case is a GA. Notice that it is possible to create our **own** operators and functions to use, which is what we do with our **oneMaxFitness** function below."
      ],
      "metadata": {
        "id": "OcC34VpSzrWm"
      }
    },
    {
      "cell_type": "code",
      "execution_count": 111,
      "source": [
        "toolbox = base.Toolbox()\n",
        "\n",
        "# create an operator that randomly returns 0 or 1:\n",
        "toolbox.register(\"zeroOrOne\", random.randint, 0, 1)\n",
        "\n",
        "# define a single objective, maximizing fitness strategy:\n",
        "creator.create(\"FitnessMax\", base.Fitness, weights=(1.0,))\n",
        "\n",
        "# create the Individual class based on list:\n",
        "creator.create(\"Individual\", list, fitness=creator.FitnessMax)\n",
        "#creator.create(\"Individual\", array.array, typecode='b', fitness=creator.FitnessMax)\n",
        "\n",
        "# create the individual operator to fill up an Individual instance:\n",
        "toolbox.register(\"individualCreator\", tools.initRepeat, creator.Individual, toolbox.zeroOrOne, ONE_MAX_LENGTH)\n",
        "\n",
        "# create the population operator to generate a list of individuals:\n",
        "toolbox.register(\"populationCreator\", tools.initRepeat, list, toolbox.individualCreator)\n",
        "\n",
        "\n",
        "# fitness calculation:\n",
        "# compute the number of '1's in the individual\n",
        "def oneMaxFitness(individual):\n",
        "    return sum(individual),  # return a tuple\n",
        "\n",
        "\n",
        "toolbox.register(\"evaluate\", oneMaxFitness)\n",
        "\n",
        "# genetic operators:\n",
        "\n",
        "# Tournament selection with tournament size of 3:\n",
        "toolbox.register(\"select\", tools.selRoulette)\n",
        "\n",
        "# Single-point crossover:\n",
        "toolbox.register(\"mate\", tools.cxOnePoint)\n",
        "\n",
        "# Flip-bit mutation:\n",
        "# indpb: Independent probability for each attribute to be flipped\n",
        "toolbox.register(\"mutate\", tools.mutFlipBit, indpb=1.0/ONE_MAX_LENGTH)\n",
        "\n"
      ],
      "outputs": [
        {
          "output_type": "stream",
          "name": "stderr",
          "text": [
            "/usr/local/lib/python3.7/dist-packages/deap/creator.py:141: RuntimeWarning: A class named 'FitnessMax' has already been created and it will be overwritten. Consider deleting previous creation of that class or rename it.\n",
            "  RuntimeWarning)\n",
            "/usr/local/lib/python3.7/dist-packages/deap/creator.py:141: RuntimeWarning: A class named 'Individual' has already been created and it will be overwritten. Consider deleting previous creation of that class or rename it.\n",
            "  RuntimeWarning)\n"
          ]
        }
      ],
      "metadata": {
        "id": "B0sH-qQEzrWm",
        "colab": {
          "base_uri": "https://localhost:8080/"
        },
        "outputId": "088272b0-eb42-49d0-84e5-7e0de01d7e3e"
      }
    },
    {
      "cell_type": "markdown",
      "source": [
        "Here is the main GA loop. We will iterate through it up to the MAX_GENERATIONS parameter and then print out our best individual."
      ],
      "metadata": {
        "id": "2l6xua3fzrWn"
      }
    },
    {
      "cell_type": "code",
      "execution_count": 112,
      "source": [
        "# create initial population (generation 0):\n",
        "population = toolbox.populationCreator(n=POPULATION_SIZE)\n",
        "generationCounter = 0\n",
        "\n",
        "# calculate fitness tuple for each individual in the population:\n",
        "fitnessValues = list(map(toolbox.evaluate, population))\n",
        "for individual, fitnessValue in zip(population, fitnessValues):\n",
        "    individual.fitness.values = fitnessValue\n",
        "\n",
        "# extract fitness values from all individuals in population:\n",
        "fitnessValues = [individual.fitness.values[0] for individual in population]\n",
        "\n",
        "# initialize statistics accumulators:\n",
        "maxFitnessValues = []\n",
        "meanFitnessValues = []\n",
        "\n",
        "# main evolutionary loop:\n",
        "# stop if max fitness value reached the known max value\n",
        "# OR if number of generations exceeded the preset value:\n",
        "while max(fitnessValues) < ONE_MAX_LENGTH and generationCounter < MAX_GENERATIONS:\n",
        "    # update counter:\n",
        "    generationCounter = generationCounter + 1\n",
        "\n",
        "    # apply the selection operator, to select the next generation's individuals:\n",
        "    offspring = toolbox.select(population, len(population))\n",
        "    # clone the selected individuals:\n",
        "    offspring = list(map(toolbox.clone, offspring))\n",
        "\n",
        "    # apply the crossover operator to pairs of offspring:\n",
        "    for child1, child2 in zip(offspring[::2], offspring[1::2]):\n",
        "        if random.random() < P_CROSSOVER:\n",
        "            toolbox.mate(child1, child2)\n",
        "            del child1.fitness.values\n",
        "            del child2.fitness.values\n",
        "\n",
        "    for mutant in offspring:\n",
        "        if random.random() < P_MUTATION:\n",
        "            toolbox.mutate(mutant)\n",
        "            del mutant.fitness.values\n",
        "\n",
        "    # calculate fitness for the individuals with no previous calculated fitness value:\n",
        "    freshIndividuals = [ind for ind in offspring if not ind.fitness.valid]\n",
        "    freshFitnessValues = list(map(toolbox.evaluate, freshIndividuals))\n",
        "    for individual, fitnessValue in zip(freshIndividuals, freshFitnessValues):\n",
        "        individual.fitness.values = fitnessValue\n",
        "\n",
        "    # replace the current population with the offspring:\n",
        "    population[:] = offspring\n",
        "\n",
        "    # collect fitnessValues into a list, update statistics and print:\n",
        "    fitnessValues = [ind.fitness.values[0] for ind in population]\n",
        "\n",
        "    maxFitness = max(fitnessValues)\n",
        "    meanFitness = sum(fitnessValues) / len(population)\n",
        "    maxFitnessValues.append(maxFitness)\n",
        "    meanFitnessValues.append(meanFitness)\n",
        "    print(\"- Generation {}: Max Fitness = {}, Avg Fitness = {}\".format(generationCounter, maxFitness, meanFitness))\n",
        "\n",
        "    # find and print best individual:\n",
        "    best_index = fitnessValues.index(max(fitnessValues))\n",
        "    print(\"Best Individual = \", *population[best_index], \"\\n\")"
      ],
      "outputs": [
        {
          "output_type": "stream",
          "name": "stdout",
          "text": [
            "- Generation 1: Max Fitness = 34.0, Avg Fitness = 25.535\n",
            "Best Individual =  1 0 0 1 1 0 1 1 0 1 1 1 1 1 1 0 1 1 1 1 0 1 0 1 0 1 1 0 0 1 1 1 1 1 0 1 1 1 0 1 1 1 0 0 1 1 0 1 1 0 \n",
            "\n",
            "- Generation 2: Max Fitness = 34.0, Avg Fitness = 26.415\n",
            "Best Individual =  1 0 0 1 1 0 1 1 0 1 1 1 1 1 1 0 1 1 1 1 0 1 0 1 0 1 1 1 1 1 1 0 1 0 1 0 0 1 1 1 1 0 1 1 1 1 0 0 0 1 \n",
            "\n",
            "- Generation 3: Max Fitness = 34.0, Avg Fitness = 26.635\n",
            "Best Individual =  1 0 0 1 1 0 1 1 0 1 1 1 1 1 1 0 1 1 1 1 0 1 0 1 0 1 1 1 1 1 1 0 0 1 1 0 1 1 0 0 1 1 0 0 1 1 1 0 1 1 \n",
            "\n",
            "- Generation 4: Max Fitness = 34.0, Avg Fitness = 27.095\n",
            "Best Individual =  0 1 0 1 0 1 0 1 1 1 1 1 1 1 1 0 1 1 1 1 0 1 0 1 0 1 1 1 1 1 1 0 0 1 1 0 1 1 0 0 1 1 0 0 1 1 1 0 1 1 \n",
            "\n",
            "- Generation 5: Max Fitness = 35.0, Avg Fitness = 27.62\n",
            "Best Individual =  1 1 1 1 0 0 1 1 0 1 1 1 1 1 0 1 0 1 1 1 0 1 0 1 1 0 1 1 1 1 1 0 0 1 1 0 1 1 0 1 1 0 1 1 1 1 1 0 1 0 \n",
            "\n",
            "- Generation 6: Max Fitness = 35.0, Avg Fitness = 27.805\n",
            "Best Individual =  1 1 1 1 0 0 1 1 0 1 1 1 1 1 0 1 0 1 1 1 0 1 0 1 1 0 1 1 1 1 1 0 0 1 1 0 1 1 0 1 1 0 1 1 1 1 1 0 1 0 \n",
            "\n",
            "- Generation 7: Max Fitness = 35.0, Avg Fitness = 27.835\n",
            "Best Individual =  1 1 1 1 0 0 1 1 0 1 1 1 1 1 0 1 0 1 1 1 0 1 0 1 1 0 1 1 1 1 1 0 0 1 1 0 1 1 0 1 1 0 1 1 1 1 1 0 1 0 \n",
            "\n",
            "- Generation 8: Max Fitness = 35.0, Avg Fitness = 28.26\n",
            "Best Individual =  0 0 1 1 1 1 0 1 1 1 1 1 1 1 0 1 1 0 1 1 0 0 0 1 0 0 0 1 1 1 0 1 0 1 1 1 1 1 1 0 0 1 1 1 1 1 1 1 1 1 \n",
            "\n",
            "- Generation 9: Max Fitness = 38.0, Avg Fitness = 28.66\n",
            "Best Individual =  1 1 0 1 0 1 1 0 1 1 1 0 1 1 1 0 0 1 1 1 1 1 1 1 1 0 0 1 1 1 0 1 0 1 1 1 1 1 1 0 0 1 1 1 1 1 1 1 1 1 \n",
            "\n",
            "- Generation 10: Max Fitness = 37.0, Avg Fitness = 29.13\n",
            "Best Individual =  0 1 0 1 0 1 1 0 1 1 1 0 1 1 1 0 0 1 1 1 1 1 1 1 1 0 0 1 1 1 0 1 0 1 1 1 1 1 1 0 0 1 1 1 1 1 1 1 1 1 \n",
            "\n",
            "- Generation 11: Max Fitness = 39.0, Avg Fitness = 29.875\n",
            "Best Individual =  1 1 1 1 1 0 1 1 0 1 1 1 1 1 0 1 1 0 1 1 1 1 1 1 1 0 0 1 0 0 1 1 1 1 0 1 0 0 1 1 1 1 1 1 1 1 1 1 1 1 \n",
            "\n",
            "- Generation 12: Max Fitness = 39.0, Avg Fitness = 30.115\n",
            "Best Individual =  1 1 1 1 1 0 1 1 0 1 1 1 1 1 0 1 1 0 1 1 1 1 1 1 1 0 0 1 1 1 0 1 0 1 1 1 1 1 1 0 0 1 1 1 1 1 1 1 1 0 \n",
            "\n",
            "- Generation 13: Max Fitness = 40.0, Avg Fitness = 30.41\n",
            "Best Individual =  1 1 1 1 1 0 1 1 0 1 1 1 1 1 0 1 1 0 1 1 1 1 1 1 1 0 0 1 1 1 0 1 0 1 1 1 1 1 1 0 0 1 1 1 1 1 1 1 1 1 \n",
            "\n",
            "- Generation 14: Max Fitness = 38.0, Avg Fitness = 30.525\n",
            "Best Individual =  1 1 1 0 1 1 1 1 0 1 1 1 1 1 0 1 1 1 1 1 0 0 0 1 0 1 1 0 1 0 1 1 1 1 0 1 1 1 0 1 0 1 1 1 1 1 1 1 1 1 \n",
            "\n",
            "- Generation 15: Max Fitness = 38.0, Avg Fitness = 30.985\n",
            "Best Individual =  1 1 1 1 1 0 1 1 0 1 1 1 1 1 0 1 1 1 1 1 0 0 0 1 0 1 0 0 1 1 1 0 1 1 1 1 1 1 1 1 0 1 1 1 1 1 1 1 1 0 \n",
            "\n",
            "- Generation 16: Max Fitness = 39.0, Avg Fitness = 31.505\n",
            "Best Individual =  1 1 0 1 0 1 0 1 1 1 1 1 1 1 0 1 1 1 1 1 1 1 1 1 1 0 0 1 1 1 0 1 0 1 1 1 1 1 1 0 0 1 1 1 1 1 1 1 1 0 \n",
            "\n",
            "- Generation 17: Max Fitness = 41.0, Avg Fitness = 31.685\n",
            "Best Individual =  1 1 1 1 1 0 1 1 0 1 1 1 1 1 0 0 0 1 1 1 1 1 1 1 1 1 1 1 1 1 0 1 1 1 1 0 1 0 1 1 1 1 1 1 0 1 1 1 1 1 \n",
            "\n",
            "- Generation 18: Max Fitness = 40.0, Avg Fitness = 32.095\n",
            "Best Individual =  1 1 1 1 1 0 0 1 0 1 1 1 1 1 0 1 1 0 1 1 1 1 1 1 1 1 0 1 0 1 1 0 0 1 0 1 1 1 1 1 1 1 1 1 1 1 1 1 1 1 \n",
            "\n",
            "- Generation 19: Max Fitness = 39.0, Avg Fitness = 32.56\n",
            "Best Individual =  0 1 1 1 1 0 0 1 1 1 1 1 1 1 0 1 1 1 1 1 0 1 1 1 1 0 0 1 1 1 0 1 0 1 1 1 1 1 1 0 0 1 1 1 1 1 1 1 1 1 \n",
            "\n",
            "- Generation 20: Max Fitness = 40.0, Avg Fitness = 32.76\n",
            "Best Individual =  1 1 1 1 1 0 1 1 0 1 1 1 1 1 0 1 1 1 1 0 1 1 1 1 1 0 0 1 1 1 1 0 0 1 1 1 1 1 0 1 1 1 1 1 0 1 1 1 1 1 \n",
            "\n",
            "- Generation 21: Max Fitness = 39.0, Avg Fitness = 32.87\n",
            "Best Individual =  1 1 1 0 0 1 1 1 1 1 1 1 1 1 0 1 1 1 1 1 1 0 0 0 1 0 1 0 1 1 1 1 1 1 0 1 1 1 0 1 1 1 1 1 1 1 1 1 0 1 \n",
            "\n",
            "- Generation 22: Max Fitness = 39.0, Avg Fitness = 33.13\n",
            "Best Individual =  1 1 1 1 1 0 1 1 0 1 1 1 1 1 0 1 1 1 1 1 1 1 1 1 1 0 0 1 1 1 0 1 0 1 1 1 1 1 1 0 1 1 1 1 0 0 0 1 1 1 \n",
            "\n",
            "- Generation 23: Max Fitness = 42.0, Avg Fitness = 33.4\n",
            "Best Individual =  1 1 1 1 1 0 1 1 0 1 1 1 1 1 0 1 1 1 1 0 1 1 1 1 1 0 0 1 1 1 1 0 0 1 1 1 1 1 1 1 1 1 1 1 1 1 1 1 1 1 \n",
            "\n",
            "- Generation 24: Max Fitness = 40.0, Avg Fitness = 33.415\n",
            "Best Individual =  1 1 1 1 1 1 0 1 1 1 1 1 1 1 0 1 1 1 1 1 0 1 1 1 1 0 1 0 0 1 0 1 0 1 1 1 1 1 1 1 0 1 1 1 1 1 0 1 1 1 \n",
            "\n",
            "- Generation 25: Max Fitness = 39.0, Avg Fitness = 33.275\n",
            "Best Individual =  1 1 1 1 1 0 1 1 0 1 1 1 1 1 0 1 1 0 1 1 1 1 1 1 1 0 0 1 1 1 1 0 1 0 1 1 1 1 0 1 0 1 1 1 1 1 1 1 1 0 \n",
            "\n",
            "- Generation 26: Max Fitness = 39.0, Avg Fitness = 33.45\n",
            "Best Individual =  0 1 0 0 1 1 1 1 0 1 1 1 1 1 0 1 1 1 1 0 1 1 1 1 1 0 0 1 1 1 1 1 1 1 1 1 1 1 1 1 1 1 1 1 0 1 1 0 1 0 \n",
            "\n",
            "- Generation 27: Max Fitness = 39.0, Avg Fitness = 33.525\n",
            "Best Individual =  0 1 1 1 0 1 0 1 1 1 1 0 0 1 0 1 1 1 1 1 1 1 1 1 1 0 1 0 1 1 1 1 1 1 1 1 1 1 1 0 1 1 1 1 1 1 0 0 1 1 \n",
            "\n",
            "- Generation 28: Max Fitness = 41.0, Avg Fitness = 33.67\n",
            "Best Individual =  1 1 1 1 0 1 0 1 1 1 1 1 1 1 0 1 1 1 1 1 1 1 1 1 1 0 1 1 0 1 0 1 0 1 1 1 1 1 1 1 1 0 1 1 1 1 1 0 1 1 \n",
            "\n",
            "- Generation 29: Max Fitness = 41.0, Avg Fitness = 34.105\n",
            "Best Individual =  1 1 1 1 0 1 0 1 1 1 1 1 1 1 0 0 1 1 1 1 1 1 1 1 1 0 0 1 1 1 0 1 0 1 0 1 1 1 1 1 1 1 1 1 1 1 1 1 1 1 \n",
            "\n",
            "- Generation 30: Max Fitness = 41.0, Avg Fitness = 34.41\n",
            "Best Individual =  1 1 1 1 0 1 0 1 1 1 1 1 1 1 0 1 1 1 1 1 1 1 1 1 1 0 1 1 1 1 0 1 0 1 1 1 1 1 1 1 1 1 1 1 1 1 0 0 1 0 \n",
            "\n",
            "- Generation 31: Max Fitness = 42.0, Avg Fitness = 34.505\n",
            "Best Individual =  0 1 1 1 1 1 1 1 0 1 1 1 1 1 0 1 1 0 1 1 0 1 1 1 0 1 1 1 0 1 0 1 1 1 1 1 1 1 1 1 1 1 1 1 1 1 1 1 1 1 \n",
            "\n",
            "- Generation 32: Max Fitness = 42.0, Avg Fitness = 35.105\n",
            "Best Individual =  0 1 1 1 1 1 1 1 0 1 1 1 1 1 0 1 1 0 1 1 0 1 1 1 0 1 1 1 0 1 0 1 1 1 1 1 1 1 1 1 1 1 1 1 1 1 1 1 1 1 \n",
            "\n",
            "- Generation 33: Max Fitness = 42.0, Avg Fitness = 34.945\n",
            "Best Individual =  1 1 1 1 1 1 1 1 0 1 1 1 1 1 0 1 1 1 1 0 1 1 1 1 1 0 0 1 1 1 1 1 1 1 1 1 1 1 1 0 1 1 1 1 1 1 0 0 1 1 \n",
            "\n",
            "- Generation 34: Max Fitness = 43.0, Avg Fitness = 35.385\n",
            "Best Individual =  1 1 1 1 1 0 1 1 0 1 1 1 1 1 0 1 1 1 1 1 1 1 1 1 1 0 0 1 1 1 1 1 1 1 1 1 1 1 1 0 1 1 1 1 1 1 1 1 1 0 \n",
            "\n",
            "- Generation 35: Max Fitness = 44.0, Avg Fitness = 35.52\n",
            "Best Individual =  0 1 0 0 1 1 1 1 0 1 1 1 1 1 0 1 1 1 1 1 1 1 1 1 1 0 1 1 1 1 1 1 1 1 1 1 1 1 1 1 1 1 1 1 1 1 1 1 1 1 \n",
            "\n",
            "- Generation 36: Max Fitness = 45.0, Avg Fitness = 35.87\n",
            "Best Individual =  1 1 0 1 1 1 1 1 0 1 1 1 1 1 0 1 1 1 1 0 1 1 1 1 1 0 1 1 1 1 1 1 1 1 1 1 1 1 1 1 1 1 1 1 1 1 1 1 1 1 \n",
            "\n",
            "- Generation 37: Max Fitness = 42.0, Avg Fitness = 35.89\n",
            "Best Individual =  1 1 1 1 1 1 1 1 0 1 1 1 1 1 0 1 1 1 1 0 1 1 1 1 1 0 0 1 1 1 1 1 1 1 1 1 1 1 1 0 1 1 1 1 0 1 1 0 1 1 \n",
            "\n",
            "- Generation 38: Max Fitness = 43.0, Avg Fitness = 36.43\n",
            "Best Individual =  1 1 1 1 0 1 1 0 0 1 1 1 1 1 0 1 1 1 1 1 1 1 1 1 1 0 1 0 1 1 1 1 1 1 1 1 1 1 1 1 1 1 1 1 1 1 0 1 1 1 \n",
            "\n",
            "- Generation 39: Max Fitness = 42.0, Avg Fitness = 36.865\n",
            "Best Individual =  1 1 0 1 0 1 0 1 1 1 1 0 0 1 0 1 1 1 1 1 1 1 1 1 1 0 0 1 1 1 1 1 1 1 1 1 1 1 1 1 1 1 1 1 1 1 1 1 1 1 \n",
            "\n",
            "- Generation 40: Max Fitness = 44.0, Avg Fitness = 37.25\n",
            "Best Individual =  1 1 1 1 1 0 1 1 1 1 1 1 1 0 1 1 1 1 1 1 1 1 1 1 1 0 1 0 0 1 0 1 1 1 1 1 1 1 1 1 1 1 1 1 1 1 1 1 1 1 \n",
            "\n",
            "- Generation 41: Max Fitness = 45.0, Avg Fitness = 37.335\n",
            "Best Individual =  1 1 1 1 1 0 1 1 1 1 1 1 1 1 0 1 1 1 1 1 0 1 1 1 1 0 1 0 1 1 1 1 1 1 1 1 1 1 1 1 1 1 1 1 1 1 1 1 1 1 \n",
            "\n",
            "- Generation 42: Max Fitness = 46.0, Avg Fitness = 37.95\n",
            "Best Individual =  1 1 1 1 1 1 1 1 1 1 1 1 1 1 0 1 1 1 1 0 1 1 1 1 1 0 0 1 1 1 1 1 1 1 1 1 1 1 1 1 1 1 1 1 1 1 1 1 1 1 \n",
            "\n",
            "- Generation 43: Max Fitness = 44.0, Avg Fitness = 37.9\n",
            "Best Individual =  0 1 1 1 1 1 1 1 1 1 1 0 0 1 0 1 1 1 1 1 1 1 1 1 1 0 0 1 1 1 1 1 1 1 1 1 1 1 1 1 1 1 1 1 1 1 1 1 1 1 \n",
            "\n",
            "- Generation 44: Max Fitness = 45.0, Avg Fitness = 38.26\n",
            "Best Individual =  1 1 1 1 1 1 1 1 1 1 1 1 1 1 0 1 1 1 1 1 1 1 1 1 1 0 1 0 1 1 1 1 0 1 1 1 1 1 1 1 1 0 1 1 1 1 1 1 1 1 \n",
            "\n",
            "- Generation 45: Max Fitness = 44.0, Avg Fitness = 38.385\n",
            "Best Individual =  1 1 1 1 1 0 1 1 1 1 1 1 1 1 0 1 1 1 1 1 0 1 1 1 1 0 1 0 1 1 1 1 0 1 1 1 1 1 1 1 1 1 1 1 1 1 1 1 1 1 \n",
            "\n",
            "- Generation 46: Max Fitness = 45.0, Avg Fitness = 38.695\n",
            "Best Individual =  1 0 1 1 1 1 1 1 1 1 1 1 1 1 0 1 1 1 1 1 1 1 1 1 1 0 1 0 1 1 1 1 1 1 1 1 1 1 1 1 1 1 1 1 1 1 1 1 1 0 \n",
            "\n",
            "- Generation 47: Max Fitness = 45.0, Avg Fitness = 38.575\n",
            "Best Individual =  1 1 1 1 1 0 1 1 1 1 1 1 1 1 0 1 1 1 1 1 1 1 1 1 1 0 1 0 1 1 1 1 1 1 1 1 1 1 1 1 1 1 1 1 1 1 1 1 1 0 \n",
            "\n",
            "- Generation 48: Max Fitness = 46.0, Avg Fitness = 38.715\n",
            "Best Individual =  1 1 1 1 1 1 1 1 1 1 1 1 1 1 0 1 1 1 1 1 1 1 1 1 1 0 1 1 1 1 1 1 0 1 1 1 1 1 0 1 1 1 1 1 1 1 1 1 1 1 \n",
            "\n",
            "- Generation 49: Max Fitness = 46.0, Avg Fitness = 38.845\n",
            "Best Individual =  1 0 1 1 1 1 1 1 1 1 1 1 1 1 0 1 1 1 1 1 1 1 1 1 1 0 1 0 1 1 1 1 1 1 1 1 1 1 1 1 1 1 1 1 1 1 1 1 1 1 \n",
            "\n",
            "- Generation 50: Max Fitness = 46.0, Avg Fitness = 39.015\n",
            "Best Individual =  1 1 1 1 1 1 1 1 1 1 1 1 1 1 0 1 1 1 1 1 1 1 1 1 1 0 1 0 1 1 1 1 1 1 1 0 1 1 1 1 1 1 1 1 1 1 1 1 1 1 \n",
            "\n",
            "- Generation 51: Max Fitness = 45.0, Avg Fitness = 39.1\n",
            "Best Individual =  1 1 1 1 1 0 1 1 1 1 1 1 1 1 1 1 1 1 1 0 1 1 1 1 1 0 1 1 1 1 1 1 0 1 0 1 1 1 1 1 1 1 1 1 1 1 1 1 1 1 \n",
            "\n",
            "- Generation 52: Max Fitness = 46.0, Avg Fitness = 39.335\n",
            "Best Individual =  1 1 1 1 1 0 1 1 1 1 1 1 1 1 1 1 1 1 1 0 1 1 1 1 1 0 1 1 1 1 1 1 1 1 1 1 1 1 1 1 1 1 1 1 1 1 1 1 1 0 \n",
            "\n",
            "- Generation 53: Max Fitness = 46.0, Avg Fitness = 39.72\n",
            "Best Individual =  1 1 1 1 1 0 1 1 1 1 1 1 1 1 1 1 1 1 1 0 1 1 1 1 1 0 1 1 1 1 1 1 1 1 1 1 1 1 1 1 1 1 1 1 1 1 0 1 1 1 \n",
            "\n",
            "- Generation 54: Max Fitness = 47.0, Avg Fitness = 40.07\n",
            "Best Individual =  1 1 1 1 1 0 1 1 1 1 1 1 1 1 0 1 1 1 1 1 1 1 1 1 1 0 1 1 1 1 1 1 1 1 1 1 1 1 1 1 1 1 1 1 1 1 1 1 1 1 \n",
            "\n",
            "- Generation 55: Max Fitness = 46.0, Avg Fitness = 40.285\n",
            "Best Individual =  1 1 1 1 1 1 1 1 1 1 1 1 1 1 1 1 1 1 1 1 1 1 1 1 1 0 1 0 1 1 1 1 1 1 1 1 1 1 0 1 1 1 1 1 1 1 0 1 1 1 \n",
            "\n",
            "- Generation 56: Max Fitness = 46.0, Avg Fitness = 40.56\n",
            "Best Individual =  1 1 1 1 1 1 1 1 1 1 1 1 1 1 1 1 1 1 1 1 1 1 1 1 1 0 1 0 1 1 1 1 1 1 1 1 1 1 0 1 1 1 1 1 1 1 0 1 1 1 \n",
            "\n",
            "- Generation 57: Max Fitness = 46.0, Avg Fitness = 40.55\n",
            "Best Individual =  1 1 1 1 1 1 1 1 1 1 1 1 1 1 0 1 1 1 1 1 1 1 1 1 1 0 1 0 1 1 1 1 0 1 1 1 1 1 1 1 1 1 1 1 1 1 1 1 1 1 \n",
            "\n",
            "- Generation 58: Max Fitness = 46.0, Avg Fitness = 40.91\n",
            "Best Individual =  1 1 1 1 1 0 1 1 1 1 1 1 1 1 1 1 1 1 1 1 1 1 1 1 1 0 1 0 1 1 1 1 1 1 1 1 1 1 1 0 1 1 1 1 1 1 1 1 1 1 \n",
            "\n",
            "- Generation 59: Max Fitness = 47.0, Avg Fitness = 40.835\n",
            "Best Individual =  1 1 1 1 1 1 1 1 1 1 1 1 1 1 1 1 1 1 1 1 1 1 1 1 1 0 0 1 0 1 1 1 1 1 1 1 1 1 1 1 1 1 1 1 1 1 1 1 1 1 \n",
            "\n",
            "- Generation 60: Max Fitness = 47.0, Avg Fitness = 40.76\n",
            "Best Individual =  1 1 1 1 1 1 1 1 1 1 1 1 1 1 1 1 1 1 1 0 1 1 1 1 1 0 1 1 1 1 1 1 1 1 1 1 1 1 0 1 1 1 1 1 1 1 1 1 1 1 \n",
            "\n",
            "- Generation 61: Max Fitness = 47.0, Avg Fitness = 40.865\n",
            "Best Individual =  1 1 1 1 1 1 1 1 1 1 1 1 1 1 1 1 1 1 1 0 1 1 1 1 1 0 1 1 1 1 1 1 1 1 1 1 1 1 1 1 1 1 1 1 0 1 1 1 1 1 \n",
            "\n",
            "- Generation 62: Max Fitness = 46.0, Avg Fitness = 41.1\n",
            "Best Individual =  1 1 1 1 1 1 1 1 1 1 1 1 1 1 1 1 1 1 1 0 1 1 1 1 1 0 1 1 1 1 1 1 1 1 1 1 1 1 0 1 1 1 1 1 1 1 1 1 1 0 \n",
            "\n",
            "- Generation 63: Max Fitness = 47.0, Avg Fitness = 41.06\n",
            "Best Individual =  1 1 1 1 1 1 1 1 1 1 1 1 1 1 1 1 1 1 1 0 1 1 1 1 1 0 1 1 1 1 1 1 0 1 1 1 1 1 1 1 1 1 1 1 1 1 1 1 1 1 \n",
            "\n",
            "- Generation 64: Max Fitness = 47.0, Avg Fitness = 41.245\n",
            "Best Individual =  1 1 1 1 1 1 1 1 1 1 1 1 1 1 1 1 1 1 1 0 1 1 1 1 1 0 1 1 1 1 1 1 0 1 1 1 1 1 1 1 1 1 1 1 1 1 1 1 1 1 \n",
            "\n",
            "- Generation 65: Max Fitness = 47.0, Avg Fitness = 41.125\n",
            "Best Individual =  1 1 1 1 1 1 1 1 1 1 1 1 1 1 1 1 1 1 1 0 1 1 1 1 1 0 1 1 1 1 1 1 0 1 1 1 1 1 1 1 1 1 1 1 1 1 1 1 1 1 \n",
            "\n",
            "- Generation 66: Max Fitness = 47.0, Avg Fitness = 41.285\n",
            "Best Individual =  1 1 1 1 1 1 1 1 1 1 1 1 1 1 1 1 1 1 1 0 1 1 1 1 1 0 1 1 1 1 1 1 0 1 1 1 1 1 1 1 1 1 1 1 1 1 1 1 1 1 \n",
            "\n",
            "- Generation 67: Max Fitness = 47.0, Avg Fitness = 41.505\n",
            "Best Individual =  1 1 1 1 1 1 1 1 1 1 1 1 1 1 1 1 1 1 1 0 1 1 1 1 1 0 1 1 1 1 1 1 0 1 1 1 1 1 1 1 1 1 1 1 1 1 1 1 1 1 \n",
            "\n",
            "- Generation 68: Max Fitness = 47.0, Avg Fitness = 41.49\n",
            "Best Individual =  1 1 1 1 1 1 1 1 1 1 1 1 1 1 1 1 1 1 1 0 1 1 1 1 1 0 1 1 1 1 1 1 0 1 1 1 1 1 1 1 1 1 1 1 1 1 1 1 1 1 \n",
            "\n",
            "- Generation 69: Max Fitness = 47.0, Avg Fitness = 41.315\n",
            "Best Individual =  1 1 1 1 1 1 1 1 1 1 1 1 1 1 1 1 1 1 1 0 1 1 1 1 1 0 1 1 1 1 1 1 0 1 1 1 1 1 1 1 1 1 1 1 1 1 1 1 1 1 \n",
            "\n",
            "- Generation 70: Max Fitness = 46.0, Avg Fitness = 41.405\n",
            "Best Individual =  1 1 1 1 1 1 1 1 1 1 1 0 1 1 1 1 1 1 1 1 1 1 1 1 1 0 1 0 1 1 1 1 1 1 1 1 1 1 0 1 1 1 1 1 1 1 1 1 1 1 \n",
            "\n",
            "- Generation 71: Max Fitness = 46.0, Avg Fitness = 41.27\n",
            "Best Individual =  1 1 1 1 1 1 1 1 1 1 1 1 1 1 0 1 1 1 1 0 1 1 1 1 1 0 1 1 1 1 1 1 1 0 1 1 1 1 1 1 1 1 1 1 1 1 1 1 1 1 \n",
            "\n",
            "- Generation 72: Max Fitness = 46.0, Avg Fitness = 41.45\n",
            "Best Individual =  1 1 1 1 1 1 1 1 1 1 1 0 1 1 1 1 1 1 1 1 1 1 1 1 1 0 1 0 1 1 1 1 1 1 1 1 1 1 0 1 1 1 1 1 1 1 1 1 1 1 \n",
            "\n",
            "- Generation 73: Max Fitness = 48.0, Avg Fitness = 41.515\n",
            "Best Individual =  1 1 1 1 1 1 1 1 1 1 1 1 1 1 1 1 1 1 1 1 1 1 1 1 1 0 1 1 1 1 1 1 1 1 1 1 1 1 0 1 1 1 1 1 1 1 1 1 1 1 \n",
            "\n",
            "- Generation 74: Max Fitness = 48.0, Avg Fitness = 41.605\n",
            "Best Individual =  1 1 1 1 1 1 1 1 1 1 1 1 1 1 1 1 1 1 1 1 1 1 1 1 1 0 1 1 1 1 1 1 1 1 1 1 1 1 0 1 1 1 1 1 1 1 1 1 1 1 \n",
            "\n",
            "- Generation 75: Max Fitness = 47.0, Avg Fitness = 41.55\n",
            "Best Individual =  1 1 1 1 1 1 1 1 1 1 1 1 1 1 1 1 1 1 1 0 1 1 1 1 1 1 0 1 1 1 1 1 1 1 1 1 1 1 1 1 1 1 1 1 1 1 0 1 1 1 \n",
            "\n",
            "- Generation 76: Max Fitness = 47.0, Avg Fitness = 41.635\n",
            "Best Individual =  1 1 1 1 1 1 1 1 1 1 1 1 1 1 1 1 1 1 1 0 1 1 1 1 1 1 0 1 1 1 1 1 1 1 1 1 1 1 1 1 1 1 1 1 1 1 0 1 1 1 \n",
            "\n",
            "- Generation 77: Max Fitness = 48.0, Avg Fitness = 41.755\n",
            "Best Individual =  1 1 1 1 1 1 1 1 1 1 1 1 1 1 1 1 1 1 1 0 1 1 1 1 1 1 1 0 1 1 1 1 1 1 1 1 1 1 1 1 1 1 1 1 1 1 1 1 1 1 \n",
            "\n",
            "- Generation 78: Max Fitness = 48.0, Avg Fitness = 41.825\n",
            "Best Individual =  1 1 1 1 1 1 1 1 1 1 1 1 1 1 1 1 1 1 1 0 1 1 1 1 1 1 1 0 1 1 1 1 1 1 1 1 1 1 1 1 1 1 1 1 1 1 1 1 1 1 \n",
            "\n",
            "- Generation 79: Max Fitness = 48.0, Avg Fitness = 42.155\n",
            "Best Individual =  1 1 1 1 1 1 1 1 1 1 1 1 1 1 1 1 1 1 1 1 1 1 1 1 1 0 1 1 1 1 1 1 0 1 1 1 1 1 1 1 1 1 1 1 1 1 1 1 1 1 \n",
            "\n",
            "- Generation 80: Max Fitness = 48.0, Avg Fitness = 42.08\n",
            "Best Individual =  1 1 1 1 1 1 1 1 1 1 1 1 1 1 0 1 1 1 1 1 1 1 1 1 1 0 1 1 1 1 1 1 1 1 1 1 1 1 1 1 1 1 1 1 1 1 1 1 1 1 \n",
            "\n",
            "- Generation 81: Max Fitness = 47.0, Avg Fitness = 42.02\n",
            "Best Individual =  1 1 1 1 1 1 1 1 1 1 1 1 1 1 1 1 1 1 1 0 1 1 1 1 1 1 0 1 1 1 1 1 1 1 1 1 1 1 0 1 1 1 1 1 1 1 1 1 1 1 \n",
            "\n",
            "- Generation 82: Max Fitness = 47.0, Avg Fitness = 42.18\n",
            "Best Individual =  1 1 1 1 1 1 1 1 1 1 1 1 1 1 1 1 1 1 1 0 1 1 1 1 1 1 0 1 1 1 1 1 1 1 1 1 1 1 0 1 1 1 1 1 1 1 1 1 1 1 \n",
            "\n",
            "- Generation 83: Max Fitness = 47.0, Avg Fitness = 42.155\n",
            "Best Individual =  1 1 1 1 1 1 1 1 1 1 1 1 1 1 1 1 1 1 1 1 1 1 1 1 1 0 1 1 1 1 1 1 1 1 1 1 1 1 0 1 1 1 1 1 1 1 0 1 1 1 \n",
            "\n",
            "- Generation 84: Max Fitness = 48.0, Avg Fitness = 42.35\n",
            "Best Individual =  1 1 1 1 1 1 1 1 1 1 1 1 1 1 1 1 1 1 1 1 1 1 1 1 1 0 1 1 1 1 1 1 1 1 1 1 1 1 0 1 1 1 1 1 1 1 1 1 1 1 \n",
            "\n",
            "- Generation 85: Max Fitness = 47.0, Avg Fitness = 42.495\n",
            "Best Individual =  1 1 1 1 1 1 1 1 1 1 1 1 1 1 1 1 1 1 1 1 1 1 1 1 1 0 1 1 1 1 1 1 1 1 1 1 1 1 0 1 1 1 1 1 1 1 1 1 1 0 \n",
            "\n",
            "- Generation 86: Max Fitness = 47.0, Avg Fitness = 42.75\n",
            "Best Individual =  1 1 1 1 1 1 1 1 1 1 1 1 1 1 1 1 1 1 1 0 1 1 1 1 1 1 0 1 1 1 1 1 1 1 1 1 1 1 0 1 1 1 1 1 1 1 1 1 1 1 \n",
            "\n",
            "- Generation 87: Max Fitness = 47.0, Avg Fitness = 42.855\n",
            "Best Individual =  1 1 1 1 1 1 1 1 1 1 1 1 1 1 1 1 1 1 1 0 1 1 1 1 0 0 1 1 1 1 1 1 1 1 1 1 1 1 1 1 1 1 1 1 1 1 1 1 1 1 \n",
            "\n",
            "- Generation 88: Max Fitness = 48.0, Avg Fitness = 42.955\n",
            "Best Individual =  1 1 1 1 1 1 1 1 1 1 1 1 1 1 1 1 1 1 1 0 1 1 1 1 1 0 1 1 1 1 1 1 1 1 1 1 1 1 1 1 1 1 1 1 1 1 1 1 1 1 \n",
            "\n",
            "- Generation 89: Max Fitness = 48.0, Avg Fitness = 43.085\n",
            "Best Individual =  1 1 1 1 1 1 1 1 1 1 1 1 1 1 1 1 1 1 1 1 0 1 1 1 1 1 1 1 1 1 1 1 1 1 1 1 1 1 1 1 1 1 1 1 1 1 1 1 1 0 \n",
            "\n",
            "- Generation 90: Max Fitness = 48.0, Avg Fitness = 43.48\n",
            "Best Individual =  1 1 1 1 1 1 1 1 1 1 1 1 1 1 1 1 1 1 1 0 1 1 1 1 1 1 1 1 1 1 1 1 1 1 1 1 1 1 1 1 0 1 1 1 1 1 1 1 1 1 \n",
            "\n",
            "- Generation 91: Max Fitness = 48.0, Avg Fitness = 43.42\n",
            "Best Individual =  1 1 1 1 1 1 1 1 1 1 1 1 1 1 1 1 1 1 1 1 0 1 1 1 1 1 1 1 1 1 1 1 1 1 1 1 1 1 1 1 1 1 1 1 1 1 1 1 1 0 \n",
            "\n",
            "- Generation 92: Max Fitness = 48.0, Avg Fitness = 43.355\n",
            "Best Individual =  1 1 1 1 1 1 1 1 1 1 1 1 1 1 1 1 1 1 1 1 0 1 1 1 1 1 1 1 1 1 1 1 1 1 1 1 1 1 1 1 1 1 1 1 1 1 1 1 1 0 \n",
            "\n",
            "- Generation 93: Max Fitness = 48.0, Avg Fitness = 43.75\n",
            "Best Individual =  1 1 1 1 1 1 1 1 1 1 1 1 1 1 1 1 1 1 1 1 0 1 1 1 1 1 1 1 1 1 1 1 1 1 1 1 1 1 0 1 1 1 1 1 1 1 1 1 1 1 \n",
            "\n",
            "- Generation 94: Max Fitness = 49.0, Avg Fitness = 43.705\n",
            "Best Individual =  1 1 1 1 1 1 1 1 1 1 1 1 1 1 1 1 1 1 1 0 1 1 1 1 1 1 1 1 1 1 1 1 1 1 1 1 1 1 1 1 1 1 1 1 1 1 1 1 1 1 \n",
            "\n",
            "- Generation 95: Max Fitness = 48.0, Avg Fitness = 43.51\n",
            "Best Individual =  1 1 1 1 1 1 1 1 1 1 1 1 1 1 1 1 1 1 1 0 1 1 1 1 1 1 1 0 1 1 1 1 1 1 1 1 1 1 1 1 1 1 1 1 1 1 1 1 1 1 \n",
            "\n",
            "- Generation 96: Max Fitness = 48.0, Avg Fitness = 43.64\n",
            "Best Individual =  1 1 1 1 1 1 1 1 1 1 1 1 1 1 0 1 1 1 1 1 1 1 1 1 1 0 1 1 1 1 1 1 1 1 1 1 1 1 1 1 1 1 1 1 1 1 1 1 1 1 \n",
            "\n",
            "- Generation 97: Max Fitness = 48.0, Avg Fitness = 43.675\n",
            "Best Individual =  1 1 1 1 1 1 1 1 1 1 1 1 1 1 1 1 1 1 1 0 1 1 1 1 1 1 1 0 1 1 1 1 1 1 1 1 1 1 1 1 1 1 1 1 1 1 1 1 1 1 \n",
            "\n",
            "- Generation 98: Max Fitness = 50.0, Avg Fitness = 43.53\n",
            "Best Individual =  1 1 1 1 1 1 1 1 1 1 1 1 1 1 1 1 1 1 1 1 1 1 1 1 1 1 1 1 1 1 1 1 1 1 1 1 1 1 1 1 1 1 1 1 1 1 1 1 1 1 \n",
            "\n"
          ]
        }
      ],
      "metadata": {
        "id": "tB6HBpaqzrWo",
        "colab": {
          "base_uri": "https://localhost:8080/"
        },
        "outputId": "83bdf02d-e976-43af-bcac-b2155df4cede"
      }
    },
    {
      "cell_type": "markdown",
      "source": [
        "Now that we're done, let's print out some statistics. Generally we record (at least) the max and average over time."
      ],
      "metadata": {
        "id": "8l3GRi4-zrWq"
      }
    },
    {
      "cell_type": "code",
      "execution_count": 113,
      "source": [
        "# Genetic Algorithm is done - plot statistics:\n",
        "#sns.set_style(\"whitegrid\")\n",
        "plt.plot(maxFitnessValues, color='red')\n",
        "plt.plot(meanFitnessValues, color='green')\n",
        "plt.xlabel('Generation')\n",
        "plt.ylabel('Max / Average Fitness')\n",
        "plt.title('Max and Average Fitness over Generations')\n",
        "plt.show()\n"
      ],
      "outputs": [
        {
          "output_type": "display_data",
          "data": {
            "image/png": "[encoded data removed]",
            "text/plain": [
              "<Figure size 432x288 with 1 Axes>"
            ]
          },
          "metadata": {
            "needs_background": "light"
          }
        }
      ],
      "metadata": {
        "id": "qosq3WzmzrWr",
        "colab": {
          "base_uri": "https://localhost:8080/",
          "height": 295
        },
        "outputId": "8efb7680-3dd3-45f9-8da3-9618e973e7f1"
      }
    },
    {
      "cell_type": "code",
      "execution_count": 114,
      "source": [
        "print (max (maxFitnessValues))"
      ],
      "outputs": [
        {
          "output_type": "stream",
          "name": "stdout",
          "text": [
            "50.0\n"
          ]
        }
      ],
      "metadata": {
        "id": "Sl5kxvIgzrWr",
        "colab": {
          "base_uri": "https://localhost:8080/"
        },
        "outputId": "c162751a-ecf7-4526-fdd6-942c0415923f"
      }
    },
    {
      "cell_type": "markdown",
      "source": [
        "Smallest population size and number of generations to find a perfect solution with an individual size of 50 is\n",
        "###200*98=19600"
      ],
      "metadata": {
        "id": "UREfxGW9yott"
      }
    },
    {
      "cell_type": "code",
      "execution_count": 114,
      "source": [],
      "outputs": [],
      "metadata": {
        "id": "eOyzElWYDiu9"
      }
    }
  ]
}